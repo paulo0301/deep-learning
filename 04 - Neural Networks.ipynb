{
  "cells": [
    {
      "cell_type": "markdown",
      "id": "c33b7875",
      "metadata": {
        "id": "c33b7875"
      },
      "source": [
        "# Redes Neurais\n",
        "\n",
        "Este notebook serve como um guia introdutório ao desenvolvimento de redes neurais utilizando a biblioteca PyTorch. Abordaremos os componentes fundamentais da biblioteca, desde a manipulação de tensores até a construção e o treinamento de um modelo de rede neural para classificação de imagens.\n",
        "\n",
        "## Conteúdos Abordados\n",
        "\n",
        "1.  **Tensores e Grafos Computacionais**: A base do PyTorch.\n",
        "2.  **O Módulo `torch.nn`**: Construindo camadas da rede.\n",
        "3.  **Funções de Ativação**: Introduzindo não linearidade.\n",
        "4.  **Construindo Modelos**: `nn.Sequential` e classes customizadas com `nn.Module`.\n",
        "5.  **Datasets e DataLoaders**: Gerenciando e preparando dados com o `torchvision`.\n",
        "6.  **Funções de Custo (Loss Functions)**: Quantificando o erro do modelo.\n",
        "7.  **Otimizadores**: Atualizando os pesos do modelo.\n",
        "8.  **Treinamento**: O ciclo completo de forward, backward e otimização."
      ]
    },
    {
      "cell_type": "markdown",
      "id": "94f64f89",
      "metadata": {
        "id": "94f64f89"
      },
      "source": [
        "## 1. Tensores e Grafos Computacionais\n",
        "\n",
        "O `Tensor` é a estrutura de dados central do PyTorch. Trata-se de uma matriz multidimensional otimizada para operações em hardware especializado como GPUs. Os tensores são a base para a construção de grafos computacionais dinâmicos, que são essenciais para o cálculo automático de gradientes através do mecanismo de diferenciação automática, conhecido como `autograd`."
      ]
    },
    {
      "cell_type": "code",
      "execution_count": 8,
      "id": "8a888fd8",
      "metadata": {
        "colab": {
          "base_uri": "https://localhost:8080/"
        },
        "id": "8a888fd8",
        "outputId": "c6866c78-177a-4a10-ec38-563a6dab16a6"
      },
      "outputs": [
        {
          "output_type": "stream",
          "name": "stdout",
          "text": [
            "Tensor a partir de lista:\n",
            " tensor([[1., 2.],\n",
            "        [3., 4.]])\n",
            "\n",
            "Tensor de 'uns':\n",
            " tensor([[1., 1.],\n",
            "        [1., 1.]]) \n",
            "\n",
            "Tensor aleatório:\n",
            " tensor([[0.9264, 0.6796],\n",
            "        [0.0678, 0.1757]]) \n",
            "\n"
          ]
        }
      ],
      "source": [
        "import torch\n",
        "\n",
        "# Criando um tensor a partir de uma lista Python\n",
        "data_list = [[1, 2], [3, 4]]\n",
        "x_data = torch.tensor(data_list, dtype=torch.float32)\n",
        "print(f\"Tensor a partir de lista:\\n {x_data}\\n\")\n",
        "\n",
        "# Funções de criação de tensores\n",
        "x_ones = torch.ones_like(x_data) # Cria um tensor de 'uns' com o mesmo formato de x_data\n",
        "print(f\"Tensor de 'uns':\\n {x_ones} \\n\")\n",
        "\n",
        "x_rand = torch.rand_like(x_data, dtype=torch.float) # Cria um tensor com valores aleatórios\n",
        "print(f\"Tensor aleatório:\\n {x_rand} \\n\")"
      ]
    },
    {
      "cell_type": "markdown",
      "id": "8909834a",
      "metadata": {
        "id": "8909834a"
      },
      "source": [
        "### O Grafo Computacional e o `autograd`\n",
        "\n",
        "O coração do PyTorch é o `autograd`, seu mecanismo de diferenciação automática. Para que o `autograd` funcione, ele constrói um **grafo computacional** dinamicamente. Este grafo é uma representação de todas as operações executadas nos tensores.\n",
        "\n",
        "Nesta seção, vamos decompor passo a passo como esse grafo é construído e utilizado para calcular gradientes, usando como exemplo a função:\n",
        "$$\n",
        "L = (ab - c)^2\n",
        "$$"
      ]
    },
    {
      "cell_type": "markdown",
      "id": "1f90b23a",
      "metadata": {
        "id": "1f90b23a"
      },
      "source": [
        "#### Passo 1: Definindo os Tensores Folha com `requires_grad`\n",
        "\n",
        "O processo começa com a definição dos tensores de entrada. Estes são as \"folhas\" do nosso grafo. Para que o PyTorch rastreie as operações e calcule os gradientes em relação a eles, devemos definir seu atributo `requires_grad` como `True`."
      ]
    },
    {
      "cell_type": "code",
      "execution_count": 9,
      "id": "2e60d3aa",
      "metadata": {
        "colab": {
          "base_uri": "https://localhost:8080/"
        },
        "id": "2e60d3aa",
        "outputId": "49a5be07-69b0-49fd-b3a6-52f7dcf3c19a"
      },
      "outputs": [
        {
          "output_type": "stream",
          "name": "stdout",
          "text": [
            "Tensor 'a': 4.0\n",
            "Tensor 'b': 5.0\n",
            "Tensor 'c': 2.0\n"
          ]
        }
      ],
      "source": [
        "import torch\n",
        "\n",
        "# Definindo os tensores de entrada (folhas do grafo)\n",
        "# Estes são os parâmetros em relação aos quais queremos os gradientes\n",
        "a = torch.tensor(4.0, requires_grad=True)\n",
        "b = torch.tensor(5.0, requires_grad=True)\n",
        "c = torch.tensor(2.0, requires_grad=True)\n",
        "\n",
        "print(f\"Tensor 'a': {a}\")\n",
        "print(f\"Tensor 'b': {b}\")\n",
        "print(f\"Tensor 'c': {c}\")"
      ]
    },
    {
      "cell_type": "markdown",
      "id": "76a5a71c",
      "metadata": {
        "id": "76a5a71c"
      },
      "source": [
        "#### Passo 2: Construindo o Grafo no Forward Pass\n",
        "\n",
        "À medida que executamos as operações (o *forward pass*), o PyTorch constrói o grafo dinamicamente. Cada novo tensor resultante de uma operação armazena uma referência à função que o criou através do atributo `grad_fn`. Isso cria uma \"história\" computacional que permite a retropropagação."
      ]
    },
    {
      "cell_type": "code",
      "execution_count": 10,
      "id": "af7ef489",
      "metadata": {
        "colab": {
          "base_uri": "https://localhost:8080/"
        },
        "id": "af7ef489",
        "outputId": "bf1aafe5-80e0-4d43-a65c-c77ae8bd64ca"
      },
      "outputs": [
        {
          "output_type": "stream",
          "name": "stdout",
          "text": [
            "Resultado intermediário 'z': 18.0\n",
            "  - z.grad_fn: <SubBackward0 object at 0x7cf56a297730>\n",
            "\n",
            "Resultado final 'L': 324.0\n",
            "  - L.grad_fn: <PowBackward0 object at 0x7cf56a297730>\n"
          ]
        }
      ],
      "source": [
        "# Executando o forward pass para construir o grafo\n",
        "z = a * b - c\n",
        "L = z**2\n",
        "\n",
        "print(f\"Resultado intermediário 'z': {z}\")\n",
        "print(f\"  - z.grad_fn: {z.grad_fn}\\n\") # z foi criado por uma subtração (SubBackward0)\n",
        "\n",
        "print(f\"Resultado final 'L': {L}\")\n",
        "print(f\"  - L.grad_fn: {L.grad_fn}\") # L foi criado por uma potenciação (PowBackward0)"
      ]
    },
    {
      "cell_type": "markdown",
      "id": "18a9031a",
      "metadata": {
        "id": "18a9031a"
      },
      "source": [
        "#### Passo 3: Calculando os Gradientes com `.backward()`\n",
        "\n",
        "Com o grafo construído, podemos calcular os gradientes usando o método `.backward()` no tensor de saída final (que deve ser um escalar). Esta chamada inicia o processo de retropropagação a partir de `L`, aplicando a regra da cadeia para calcular as derivadas parciais de `L` em relação a cada tensor folha.\n",
        "\n",
        "Para o nosso exemplo, o `autograd` calcula:\n",
        "$$\n",
        "\\frac{\\partial L}{\\partial a} = \\frac{\\partial L}{\\partial z}\\frac{\\partial z}{\\partial a} = 2(ab - c)b\n",
        "$$\n",
        "E de forma análoga para `b` e `c`."
      ]
    },
    {
      "cell_type": "code",
      "execution_count": 11,
      "id": "7776a3e3",
      "metadata": {
        "colab": {
          "base_uri": "https://localhost:8080/"
        },
        "id": "7776a3e3",
        "outputId": "5b90f9c2-94b2-43b2-ba10-1821c2173d65"
      },
      "outputs": [
        {
          "output_type": "stream",
          "name": "stdout",
          "text": [
            "O método L.backward() foi executado.\n"
          ]
        }
      ],
      "source": [
        "# Inicia a retropropagação a partir de L\n",
        "L.backward()\n",
        "print(\"O método L.backward() foi executado.\")"
      ]
    },
    {
      "cell_type": "markdown",
      "id": "75abb038",
      "metadata": {
        "id": "75abb038"
      },
      "source": [
        "#### Passo 4: Acessando os Gradientes Calculados\n",
        "\n",
        "Após a execução de `.backward()`, os gradientes calculados são acumulados no atributo `.grad` dos tensores folha (aqueles que foram inicializados com `requires_grad=True`)."
      ]
    },
    {
      "cell_type": "code",
      "execution_count": 12,
      "id": "3080aafb",
      "metadata": {
        "colab": {
          "base_uri": "https://localhost:8080/"
        },
        "id": "3080aafb",
        "outputId": "1b9b4119-68d5-4c4d-a5a0-49b8c7ae69e3"
      },
      "outputs": [
        {
          "output_type": "stream",
          "name": "stdout",
          "text": [
            "Gradiente dL/da: 180.0\n",
            "  - Cálculo manual: 2 * (4*5 - 2) * 5 = 180.0\n",
            "\n",
            "Gradiente dL/db: 144.0\n",
            "  - Cálculo manual: 2 * (4*5 - 2) * 4 = 144.0\n",
            "\n",
            "Gradiente dL/dc: -36.0\n",
            "  - Cálculo manual: 2 * (4*5 - 2) * (-1) = -36.0\n"
          ]
        }
      ],
      "source": [
        "# Os gradientes agora estão disponíveis no atributo .grad de cada tensor folha\n",
        "print(f\"Gradiente dL/da: {a.grad}\")\n",
        "print(f\"  - Cálculo manual: 2 * (4*5 - 2) * 5 = {2 * (4*5 - 2) * 5.0}\\n\")\n",
        "\n",
        "print(f\"Gradiente dL/db: {b.grad}\")\n",
        "print(f\"  - Cálculo manual: 2 * (4*5 - 2) * 4 = {2 * (4*5 - 2) * 4.0}\\n\")\n",
        "\n",
        "print(f\"Gradiente dL/dc: {c.grad}\")\n",
        "print(f\"  - Cálculo manual: 2 * (4*5 - 2) * (-1) = {2 * (4*5 - 2) * (-1.0)}\")"
      ]
    },
    {
      "cell_type": "markdown",
      "id": "0dc463e3",
      "metadata": {
        "id": "0dc463e3"
      },
      "source": [
        "#### Desligando o Rastreamento com `torch.no_grad()`\n",
        "\n",
        "Para fases de inferência ou avaliação, onde não precisamos de gradientes, é crucial desativar o rastreamento para economizar memória e acelerar a computação. O gerenciador de contexto `with torch.no_grad():` instrui o PyTorch a não construir o grafo computacional para nenhuma operação dentro de seu escopo."
      ]
    },
    {
      "cell_type": "code",
      "execution_count": 13,
      "id": "798f133c",
      "metadata": {
        "colab": {
          "base_uri": "https://localhost:8080/"
        },
        "id": "798f133c",
        "outputId": "f6f6dd29-e180-48f1-d7b9-c81120f56112"
      },
      "outputs": [
        {
          "output_type": "stream",
          "name": "stdout",
          "text": [
            "Rastreamento de gradientes está ativado por padrão para 'a': True\n",
            "--- Entrando no bloco no_grad ---\n",
            "Resultado L_no_grad: 324.0\n",
            "L_no_grad.grad_fn: None\n",
            "L_no_grad.requires_grad: False\n",
            "--- Saindo do bloco no_grad ---\n",
            "O rastreamento de gradientes para 'a' continua ativado fora do bloco: True\n"
          ]
        }
      ],
      "source": [
        "print(f\"Rastreamento de gradientes está ativado por padrão para 'a': {a.requires_grad}\")\n",
        "\n",
        "with torch.no_grad():\n",
        "    print(\"--- Entrando no bloco no_grad ---\")\n",
        "\n",
        "    # A mesma operação é executada aqui\n",
        "    L_no_grad = (a * b - c)**2\n",
        "\n",
        "    print(f\"Resultado L_no_grad: {L_no_grad}\")\n",
        "    # O tensor resultante não possui grad_fn, pois a operação não foi rastreada\n",
        "    print(f\"L_no_grad.grad_fn: {L_no_grad.grad_fn}\")\n",
        "    print(f\"L_no_grad.requires_grad: {L_no_grad.requires_grad}\")\n",
        "\n",
        "    print(\"--- Saindo do bloco no_grad ---\")\n",
        "\n",
        "print(f\"O rastreamento de gradientes para 'a' continua ativado fora do bloco: {a.requires_grad}\")"
      ]
    },
    {
      "cell_type": "markdown",
      "id": "e5ec41d9",
      "metadata": {
        "id": "e5ec41d9"
      },
      "source": [
        "## 2. O Módulo `torch.nn`\n",
        "\n",
        "O `torch.nn` é o módulo do PyTorch para a construção de redes neurais. Ele fornece um conjunto de blocos de construção, como camadas (`Layers`), funções de ativação (`Activation Functions`), funções de custo (`Loss Functions`) e contêineres (`Containers`). Uma \"camada\" no `torch.nn` é um objeto que encapsula tanto os pesos (parâmetros) quanto as operações a serem aplicadas nos dados de entrada."
      ]
    },
    {
      "cell_type": "markdown",
      "id": "2222abd9",
      "metadata": {
        "id": "2222abd9"
      },
      "source": [
        "### Camada Linear: `nn.Linear`\n",
        "\n",
        "A camada mais fundamental é a `nn.Linear`, que aplica uma transformação afim aos dados de entrada: $y = xW^T + b$.\n",
        "\n",
        "-   `in_features`: a dimensionalidade do espaço de entrada.\n",
        "-   `out_features`: a dimensionalidade do espaço de saída.\n",
        "\n",
        "Os tensores de peso (`weight`, $W$) e de viés (`bias`, $b$) são encapsulados como `nn.Parameter`, uma subclasse de `torch.Tensor` que os registra automaticamente como parâmetros de um `nn.Module`."
      ]
    },
    {
      "cell_type": "code",
      "execution_count": 14,
      "id": "c0ee0e68",
      "metadata": {
        "colab": {
          "base_uri": "https://localhost:8080/"
        },
        "id": "c0ee0e68",
        "outputId": "6d235530-63bc-47f0-bcfe-c44761df2c96"
      },
      "outputs": [
        {
          "output_type": "stream",
          "name": "stdout",
          "text": [
            "Formato do tensor de entrada: torch.Size([3, 10])\n",
            "Formato do tensor de saída: torch.Size([3, 5])\n",
            "\n",
            "Pesos (weights) da camada:\n",
            " torch.Size([5, 10])\n",
            "Viés (bias) da camada:\n",
            " torch.Size([5])\n"
          ]
        }
      ],
      "source": [
        "from torch import nn\n",
        "\n",
        "# Definindo uma camada linear\n",
        "# Entrada: 10 features\n",
        "# Saída: 5 features\n",
        "linear_layer = nn.Linear(in_features=10, out_features=5)\n",
        "\n",
        "# Criando um tensor de entrada de exemplo (um \"batch\" com 3 amostras)\n",
        "# O formato é (batch_size, in_features)\n",
        "input_tensor = torch.randn(3, 10)\n",
        "\n",
        "# Passando os dados pela camada\n",
        "output_tensor = linear_layer(input_tensor)\n",
        "\n",
        "print(f\"Formato do tensor de entrada: {input_tensor.shape}\")\n",
        "print(f\"Formato do tensor de saída: {output_tensor.shape}\")\n",
        "print(f\"\\nPesos (weights) da camada:\\n {linear_layer.weight.shape}\")\n",
        "print(f\"Viés (bias) da camada:\\n {linear_layer.bias.shape}\")"
      ]
    },
    {
      "cell_type": "markdown",
      "id": "0db32237",
      "metadata": {
        "id": "0db32237"
      },
      "source": [
        "## 3. Funções de Ativação\n",
        "\n",
        "Funções de ativação introduzem não linearidade no modelo, capacitando-o a aprender fronteiras de decisão complexas. Elas são aplicadas elemento a elemento na saída de uma camada.\n",
        "\n",
        "### Funções Comuns\n",
        "\n",
        "-   **Sigmoid**: Comprime os valores de entrada no intervalo $(0, 1)$. Utilizada historicamente em camadas ocultas e atualmente em camadas de saída para classificação binária.\n",
        "    $$ \\sigma(x) = \\frac{1}{1 + e^{-x}} $$\n",
        "-   **Tanh (Tangente Hiperbólica)**: Comprime os valores de entrada no intervalo $(-1, 1)$. Geralmente converge mais rápido que a Sigmoid por ser centrada em zero.\n",
        "    $$ \\tanh(x) = \\frac{e^x - e^{-x}}{e^x + e^{-x}} $$\n",
        "-   **ReLU (Rectified Linear Unit)**: A função de ativação mais utilizada em redes profundas. É computacionalmente eficiente e ajuda a mitigar o problema do desaparecimento do gradiente (vanishing gradient).\n",
        "    $$ \\text{ReLU}(x) = \\max(0, x) $$\n",
        "-   **Leaky ReLU**: Uma variação da ReLU que permite a passagem de um pequeno gradiente negativo, prevenindo o problema dos \"neurônios mortos\".\n",
        "    $$ \\text{LeakyReLU}(x) = \\begin{cases} x, & \\text{if } x > 0 \\\\ \\alpha x, & \\text{otherwise} \\end{cases} $$\n",
        "-   **Softmax**: Transforma um vetor de números reais (logits) em uma distribuição de probabilidade sobre múltiplas classes. Utilizada na camada de saída para classificação multiclasse.\n",
        "    $$ \\text{Softmax}(x_i) = \\frac{e^{x_i}}{\\sum_{j} e^{x_j}} $$"
      ]
    },
    {
      "cell_type": "code",
      "execution_count": 15,
      "id": "fbab214c",
      "metadata": {
        "colab": {
          "base_uri": "https://localhost:8080/"
        },
        "id": "fbab214c",
        "outputId": "9e0dee40-5de3-482b-89ae-3cad59082597"
      },
      "outputs": [
        {
          "output_type": "stream",
          "name": "stdout",
          "text": [
            "Saída da camada linear:\n",
            " tensor([[-0.4442,  0.5788, -1.4841, -0.1688,  1.1993],\n",
            "        [-0.3083, -0.2940, -0.3370,  0.4101,  0.4068],\n",
            "        [-0.6852,  0.1231, -0.2736, -0.0626,  0.1798]],\n",
            "       grad_fn=<AddmmBackward0>)\n",
            "\n",
            "Saída após ativação ReLU:\n",
            " tensor([[0.0000, 0.5788, 0.0000, 0.0000, 1.1993],\n",
            "        [0.0000, 0.0000, 0.0000, 0.4101, 0.4068],\n",
            "        [0.0000, 0.1231, 0.0000, 0.0000, 0.1798]], grad_fn=<ReluBackward0>)\n",
            "\n",
            "Saída após ativação Leaky ReLU:\n",
            " tensor([[-4.4425e-03,  5.7884e-01, -1.4841e-02, -1.6877e-03,  1.1993e+00],\n",
            "        [-3.0833e-03, -2.9395e-03, -3.3704e-03,  4.1009e-01,  4.0684e-01],\n",
            "        [-6.8516e-03,  1.2306e-01, -2.7358e-03, -6.2635e-04,  1.7982e-01]],\n",
            "       grad_fn=<LeakyReluBackward0>)\n"
          ]
        }
      ],
      "source": [
        "# As funções de ativação também estão no módulo nn\n",
        "relu_activation = nn.ReLU()\n",
        "leaky_relu_activation = nn.LeakyReLU()\n",
        "\n",
        "# Aplicando a ativação na saída da camada linear anterior\n",
        "output_with_relu = relu_activation(output_tensor)\n",
        "output_with_leaky_relu = leaky_relu_activation(output_tensor)\n",
        "\n",
        "print(f\"Saída da camada linear:\\n {output_tensor}\\n\")\n",
        "print(f\"Saída após ativação ReLU:\\n {output_with_relu}\\n\")\n",
        "print(f\"Saída após ativação Leaky ReLU:\\n {output_with_leaky_relu}\")"
      ]
    },
    {
      "cell_type": "markdown",
      "id": "c7c7291d",
      "metadata": {
        "id": "c7c7291d"
      },
      "source": [
        "## 4. Construindo Modelos\n",
        "\n",
        "O PyTorch oferece duas maneiras principais de agrupar camadas para formar um modelo completo.\n",
        "\n",
        "### `nn.Sequential`\n",
        "\n",
        "`nn.Sequential` é um contêiner que recebe uma sequência de módulos (camadas, funções de ativação, etc.) e os executa na ordem em que são passados. É uma forma rápida e simples de criar modelos onde os dados fluem sequencialmente através das camadas."
      ]
    },
    {
      "cell_type": "code",
      "execution_count": 16,
      "id": "965dde91",
      "metadata": {
        "colab": {
          "base_uri": "https://localhost:8080/"
        },
        "id": "965dde91",
        "outputId": "edf5f754-e807-428a-c277-51636de3679a"
      },
      "outputs": [
        {
          "output_type": "stream",
          "name": "stdout",
          "text": [
            "Formato da saída do modelo: torch.Size([64, 10])\n"
          ]
        }
      ],
      "source": [
        "# Construindo um modelo simples com nn.Sequential\n",
        "model_sequential = nn.Sequential(\n",
        "    nn.Linear(in_features=256, out_features=128),\n",
        "    nn.ReLU(),\n",
        "    nn.Linear(in_features=128, out_features=10)\n",
        ")\n",
        "\n",
        "# Criando um tensor de entrada de exemplo\n",
        "inputs = torch.randn(64, 256)\n",
        "\n",
        "# Forward pass através do modelo sequencial\n",
        "logits = model_sequential(inputs) # 'logits' são as saídas brutas antes da probabilidade\n",
        "\n",
        "print(f\"Formato da saída do modelo: {logits.shape}\")"
      ]
    },
    {
      "cell_type": "markdown",
      "id": "6c230087",
      "metadata": {
        "id": "6c230087"
      },
      "source": [
        "### Classes customizadas com `nn.Module`\n",
        "\n",
        "Para modelos mais complexos, como aqueles com múltiplos caminhos de entrada/saída ou lógicas de *forward pass* não sequenciais (e.g., redes residuais), a abordagem recomendada é criar uma classe que herda de `nn.Module`.\n",
        "\n",
        "Toda classe de modelo customizada deve:\n",
        "1.  Herdar de `torch.nn.Module`.\n",
        "2.  Definir as camadas no construtor `__init__(self)`.\n",
        "3.  Implementar a lógica do *forward pass* no método `forward(self, x)`.\n",
        "\n",
        "O método `backward()` é gerenciado automaticamente pelo `autograd`."
      ]
    },
    {
      "cell_type": "code",
      "execution_count": 17,
      "id": "2492bef7",
      "metadata": {
        "colab": {
          "base_uri": "https://localhost:8080/"
        },
        "id": "2492bef7",
        "outputId": "a3d8b1d7-c1f9-43df-fe8a-8fbd780d21d8"
      },
      "outputs": [
        {
          "output_type": "stream",
          "name": "stdout",
          "text": [
            "Formato da saída do modelo (classe): torch.Size([64, 10])\n",
            "\n",
            "Estrutura do modelo:\n",
            "NeuralNetwork(\n",
            "  (layer1): Linear(in_features=256, out_features=128, bias=True)\n",
            "  (relu): ReLU()\n",
            "  (layer2): Linear(in_features=128, out_features=10, bias=True)\n",
            ")\n"
          ]
        }
      ],
      "source": [
        "# Definindo o mesmo modelo anterior, mas agora como uma classe\n",
        "class NeuralNetwork(nn.Module):\n",
        "    def __init__(self, input_size, hidden_size, num_classes):\n",
        "        super(NeuralNetwork, self).__init__()\n",
        "        self.layer1 = nn.Linear(input_size, hidden_size)\n",
        "        self.relu = nn.ReLU()\n",
        "        self.layer2 = nn.Linear(hidden_size, num_classes)\n",
        "\n",
        "    def forward(self, x):\n",
        "        out = self.layer1(x)\n",
        "        out = self.relu(out)\n",
        "        out = self.layer2(out)\n",
        "        return out\n",
        "\n",
        "# Instanciando o modelo\n",
        "model_class = NeuralNetwork(input_size=256, hidden_size=128, num_classes=10)\n",
        "\n",
        "# O uso é idêntico\n",
        "logits_class = model_class(inputs)\n",
        "\n",
        "print(f\"Formato da saída do modelo (classe): {logits_class.shape}\")\n",
        "print(f\"\\nEstrutura do modelo:\\n{model_class}\")"
      ]
    },
    {
      "cell_type": "markdown",
      "id": "48e0aed0",
      "metadata": {
        "id": "48e0aed0"
      },
      "source": [
        "## 5. Datasets e DataLoaders\n",
        "\n",
        "Para treinar um modelo, precisamos de um pipeline de dados eficiente. O PyTorch oferece duas primitivas de dados fundamentais para isso: `torch.utils.data.Dataset` e `torch.utils.data.DataLoader`.\n",
        "\n",
        "### A Estrutura de um `Dataset` Customizado\n",
        "\n",
        "A classe `Dataset` é uma classe abstrata que representa uma fonte de dados. Para criar seu próprio dataset, você precisa herdar desta classe e sobrescrever três métodos especiais (métodos mágicos):\n",
        "\n",
        "1.  `__init__(self, ...)`: O construtor da classe. É executado uma única vez ao instanciar o dataset. É aqui que você normalmente faria o carregamento inicial dos dados (ex: ler um arquivo CSV, encontrar os caminhos das imagens em um diretório).\n",
        "\n",
        "2.  `__len__(self)`: Este método deve retornar o número total de amostras no seu dataset. O `DataLoader` utiliza essa informação para saber o tamanho do dataset e definir os índices.\n",
        "\n",
        "3.  `__getitem__(self, idx)`: Este método é responsável por carregar e retornar **uma única amostra** do dataset, dado um índice `idx`. É aqui que transformações nos dados (como data augmentation ou normalização) são frequentemente aplicadas."
      ]
    },
    {
      "cell_type": "code",
      "execution_count": 18,
      "id": "38dcbac6",
      "metadata": {
        "colab": {
          "base_uri": "https://localhost:8080/"
        },
        "id": "38dcbac6",
        "outputId": "1f0780c9-856e-44b1-9643-6dfcc59d21bd"
      },
      "outputs": [
        {
          "output_type": "stream",
          "name": "stdout",
          "text": [
            "Tamanho total do dataset: 500\n"
          ]
        }
      ],
      "source": [
        "from torch.utils.data import Dataset\n",
        "\n",
        "# Exemplo prático de um Dataset customizado com tensores\n",
        "class SimpleTensorDataset(Dataset):\n",
        "    def __init__(self, features_tensor, labels_tensor):\n",
        "        self.features = features_tensor\n",
        "        self.labels = labels_tensor\n",
        "\n",
        "    def __len__(self):\n",
        "        # Retorna o número total de amostras\n",
        "        return self.features.size(0)\n",
        "\n",
        "    def __getitem__(self, idx):\n",
        "        # Retorna uma tupla (feature, label) para um dado índice\n",
        "        feature_sample = self.features[idx]\n",
        "        label_sample = self.labels[idx]\n",
        "        return feature_sample, label_sample\n",
        "\n",
        "# Criando dados de exemplo\n",
        "features = torch.randn(500, 64) # 500 amostras, 64 features cada\n",
        "labels = torch.randint(0, 2, (500,)) # 500 rótulos (0 ou 1)\n",
        "\n",
        "# Instanciando o nosso dataset customizado\n",
        "custom_dataset = SimpleTensorDataset(features, labels)\n",
        "\n",
        "# Verificando a implementação dos métodos\n",
        "print(f\"Tamanho total do dataset: {len(custom_dataset)}\")"
      ]
    },
    {
      "cell_type": "code",
      "execution_count": 19,
      "id": "f2062638",
      "metadata": {
        "colab": {
          "base_uri": "https://localhost:8080/"
        },
        "id": "f2062638",
        "outputId": "c5aa8524-117e-4910-fa8b-72c3f01fcc90"
      },
      "outputs": [
        {
          "output_type": "stream",
          "name": "stdout",
          "text": [
            "Primeira amostra (features): torch.Size([64])\n",
            "Primeira amostra (label): 1\n"
          ]
        }
      ],
      "source": [
        "# Pegando a primeira amostra (chamando __getitem__ com idx=0)\n",
        "first_sample_features, first_sample_label = custom_dataset[0]\n",
        "print(f\"Primeira amostra (features): {first_sample_features.shape}\")\n",
        "print(f\"Primeira amostra (label): {first_sample_label}\")"
      ]
    },
    {
      "cell_type": "markdown",
      "id": "f8f3e2cc",
      "metadata": {
        "id": "f8f3e2cc"
      },
      "source": [
        "### O Papel do `DataLoader`\n",
        "\n",
        "Uma vez que temos um objeto `Dataset`, que sabe como acessar amostras individuais, precisamos de uma forma eficiente de iterar sobre ele durante o treinamento. É aqui que entra o `DataLoader`.\n",
        "\n",
        "O `DataLoader` é um iterador que envolve um `Dataset` e automatiza o processo de criação de mini-lotes (*mini-batches*). Suas principais funcionalidades são:\n",
        "\n",
        "-   **Agrupamento em Lotes (Batching)**: Agrupa múltiplas amostras retornadas pelo `__getitem__` do `Dataset` para formar um lote (batch) de dados.\n",
        "-   **Embaralhamento (Shuffling)**: Permite embaralhar os dados a cada época (`shuffle=True`) para evitar que o modelo aprenda a ordem dos dados e melhore a generalização.\n",
        "-   **Carregamento Paralelo (Parallel Loading)**: Pode usar múltiplos subprocessos (`num_workers`) para carregar os dados em paralelo, evitando que o carregamento de dados se torne um gargalo."
      ]
    },
    {
      "cell_type": "code",
      "execution_count": 20,
      "id": "248ca3d9",
      "metadata": {
        "colab": {
          "base_uri": "https://localhost:8080/"
        },
        "id": "248ca3d9",
        "outputId": "e405c650-d897-402c-cf00-66451ba24205"
      },
      "outputs": [
        {
          "output_type": "stream",
          "name": "stdout",
          "text": [
            "Formato do batch de features: torch.Size([10, 64])\n",
            "Formato do batch de rótulos: torch.Size([10])\n"
          ]
        }
      ],
      "source": [
        "from torch.utils.data import DataLoader\n",
        "\n",
        "# Agora, usamos o DataLoader com o 'custom_dataset' que criamos anteriormente\n",
        "data_loader = DataLoader(dataset=custom_dataset, batch_size=10, shuffle=True)\n",
        "\n",
        "# O DataLoader é um iterável. Podemos usá-lo em um laço 'for' ou com 'next(iter())'\n",
        "# para obter o próximo lote de dados.\n",
        "first_batch_features, first_batch_labels = next(iter(data_loader))\n",
        "\n",
        "print(f\"Formato do batch de features: {first_batch_features.shape}\")\n",
        "print(f\"Formato do batch de rótulos: {first_batch_labels.shape}\")"
      ]
    },
    {
      "cell_type": "markdown",
      "id": "c9bb3e8e",
      "metadata": {
        "id": "c9bb3e8e"
      },
      "source": [
        "### Datasets Disponibilizados: `torchvision`\n",
        "\n",
        "Compreendida a estrutura de um `Dataset` e o papel do `DataLoader`, podemos apreciar a conveniência de bibliotecas como a `torchvision`. Ela já fornece implementações prontas da classe `Dataset` para datasets populares como o MNIST, que seguem a mesma estrutura que acabamos de ver."
      ]
    },
    {
      "cell_type": "code",
      "execution_count": 21,
      "id": "f40c9ce9",
      "metadata": {
        "colab": {
          "base_uri": "https://localhost:8080/"
        },
        "id": "f40c9ce9",
        "outputId": "bc27c354-473d-4a5e-da86-74331415d044"
      },
      "outputs": [
        {
          "output_type": "stream",
          "name": "stderr",
          "text": [
            "100%|██████████| 9.91M/9.91M [00:00<00:00, 17.8MB/s]\n",
            "100%|██████████| 28.9k/28.9k [00:00<00:00, 505kB/s]\n",
            "100%|██████████| 1.65M/1.65M [00:00<00:00, 4.62MB/s]\n",
            "100%|██████████| 4.54k/4.54k [00:00<00:00, 6.02MB/s]\n"
          ]
        }
      ],
      "source": [
        "import torchvision\n",
        "import torchvision.transforms as transforms\n",
        "\n",
        "# Definindo transformações para os dados\n",
        "# ToTensor() converte a imagem PIL (H x W x C) no intervalo [0, 255]\n",
        "# para um FloatTensor (C x H x W) no intervalo [0.0, 1.0].\n",
        "transform = transforms.Compose([\n",
        "    transforms.ToTensor(),\n",
        "    transforms.Normalize((0.1307,), (0.3081,)) # Média e desvio padrão do MNIST\n",
        "])\n",
        "\n",
        "# Baixando o dataset de treino\n",
        "train_dataset = torchvision.datasets.MNIST(\n",
        "    root='./data',\n",
        "    train=True,\n",
        "    transform=transform,\n",
        "    download=True\n",
        ")\n",
        "\n",
        "# Baixando o dataset de teste\n",
        "test_dataset = torchvision.datasets.MNIST(\n",
        "    root='./data',\n",
        "    train=False,\n",
        "    transform=transform\n",
        ")"
      ]
    },
    {
      "cell_type": "code",
      "execution_count": 22,
      "id": "ad79391c",
      "metadata": {
        "colab": {
          "base_uri": "https://localhost:8080/"
        },
        "id": "ad79391c",
        "outputId": "28988bf0-c2d8-41f2-f50c-cd0ae539fb66"
      },
      "outputs": [
        {
          "output_type": "stream",
          "name": "stdout",
          "text": [
            "Formato do batch de imagens: torch.Size([128, 1, 28, 28])\n",
            "Formato do batch de rótulos: torch.Size([128])\n"
          ]
        }
      ],
      "source": [
        "# Criando os DataLoaders\n",
        "batch_size = 128\n",
        "train_loader = DataLoader(\n",
        "    dataset=train_dataset,\n",
        "    batch_size=batch_size,\n",
        "    shuffle=True\n",
        ")\n",
        "\n",
        "test_loader = DataLoader(\n",
        "    dataset=test_dataset,\n",
        "    batch_size=batch_size,\n",
        "    shuffle=False\n",
        ")\n",
        "\n",
        "# Iterando sobre o DataLoader para ver o formato de um batch\n",
        "images, labels = next(iter(train_loader))\n",
        "print(f\"Formato do batch de imagens: {images.shape}\") # (batch_size, channels, height, width)\n",
        "print(f\"Formato do batch de rótulos: {labels.shape}\")"
      ]
    },
    {
      "cell_type": "code",
      "execution_count": 23,
      "id": "a26da9d1",
      "metadata": {
        "colab": {
          "base_uri": "https://localhost:8080/",
          "height": 444
        },
        "id": "a26da9d1",
        "outputId": "35e79337-7b8d-4b91-c9a6-fb35bd6cf6d1"
      },
      "outputs": [
        {
          "output_type": "display_data",
          "data": {
            "text/plain": [
              "<Figure size 640x480 with 1 Axes>"
            ],
            "image/png": "[encoded data removed]"
          },
          "metadata": {}
        },
        {
          "output_type": "stream",
          "name": "stdout",
          "text": [
            "Rótulos:  9 9 9 9 5 3 5 2 1 9 7 6 7 5 0 4 7 8 8 5 8 5 8 6 6 2 7 8 5 9 1 4 0 7 6 4 8 0 1 5 5 8 7 6 1 7 8 3 0 5 0 4 8 7 5 0 0 7 7 7 8 1 7 8 9 9 9 0 4 7 0 2 4 9 8 9 2 8 8 4 4 2 5 4 1 6 7 2 5 8 9 8 3 9 7 3 7 4 8 5 1 2 6 2 4 1 0 7 8 1 7 0 6 8 9 7 5 8 8 4 1 4 5 2 7 1 7 8\n"
          ]
        }
      ],
      "source": [
        "import matplotlib.pyplot as plt\n",
        "import numpy as np\n",
        "\n",
        "# Função para exibir uma imagem\n",
        "def imshow(img):\n",
        "    # A normalização precisa ser revertida para a visualização correta\n",
        "    # Média = 0.1307, Desvio Padrão = 0.3081\n",
        "    img = img * 0.3081 + 0.1307\n",
        "    npimg = img.numpy()\n",
        "    plt.imshow(np.transpose(npimg, (1, 2, 0)))\n",
        "    plt.axis('off') # Remove os eixos\n",
        "    plt.show()\n",
        "\n",
        "# Pega um lote (batch) de imagens de treino\n",
        "dataiter = iter(train_loader)\n",
        "images, labels = next(dataiter)\n",
        "\n",
        "# Mostra as imagens em uma grade\n",
        "# O make_grid organiza o lote de imagens em uma única imagem-grade\n",
        "imshow(torchvision.utils.make_grid(images))\n",
        "\n",
        "# Imprime os rótulos correspondentes\n",
        "print('Rótulos: ', ' '.join(f'{labels[j].item()}' for j in range(batch_size)))"
      ]
    },
    {
      "cell_type": "markdown",
      "id": "fc9b6e42",
      "metadata": {
        "id": "fc9b6e42"
      },
      "source": [
        "## 6. Funções de Custo (Loss Functions)\n",
        "\n",
        "A função de custo $J(\\theta)$ mede a discrepância entre a saída prevista pelo modelo $\\hat{y}$ e o valor real $y$. O objetivo do treinamento é encontrar os parâmetros $\\theta$ que minimizam $J(\\theta)$.\n",
        "\n",
        "### Funções Comuns\n",
        "\n",
        "-   **Mean Squared Error (MSE)**: Utilizada principalmente para tarefas de regressão. Calcula a média dos erros quadráticos entre a previsão e o valor real.\n",
        "    $$ J_{MSE} = \\frac{1}{N} \\sum_{i=1}^{N} (y_i - \\hat{y}_i)^2 $$\n",
        "-   **Binary Cross-Entropy (BCE)**: Utilizada para classificação binária. Geralmente é combinada com uma camada de saída Sigmoid.\n",
        "    $$ J_{BCE} = -\\frac{1}{N} \\sum_{i=1}^{N} \\left[ y_i \\log(\\hat{y}_i) + (1 - y_i) \\log(1 - \\hat{y}_i) \\right] $$\n",
        "-   **Cross-Entropy Loss**: Utilizada para classificação multiclasse. No PyTorch, `nn.CrossEntropyLoss` combina `nn.LogSoftmax` e `nn.NLLLoss`, sendo numericamente mais estável. Ela espera como entrada os *logits* brutos do modelo e os rótulos de classe como inteiros.\n",
        "    $$ J_{CE} = -\\frac{1}{N} \\sum_{i=1}^{N} \\sum_{c=1}^{C} y_{i,c} \\log(\\hat{p}_{i,c}) $$\n",
        "    Onde $y_{i,c}$ é 1 se a amostra $i$ pertence à classe $c$ (0 caso contrário), e $\\hat{p}_{i,c}$ é a probabilidade prevista pelo modelo para a amostra $i$ pertencer à classe $c$."
      ]
    },
    {
      "cell_type": "code",
      "execution_count": 24,
      "id": "6fc54866",
      "metadata": {
        "colab": {
          "base_uri": "https://localhost:8080/"
        },
        "id": "6fc54866",
        "outputId": "8475fdb6-f305-4b1d-8674-c4644852067f"
      },
      "outputs": [
        {
          "output_type": "stream",
          "name": "stdout",
          "text": [
            "Valor da perda (loss): 3.3367226123809814\n"
          ]
        }
      ],
      "source": [
        "# Instanciando a função de custo para classificação multiclasse\n",
        "loss_function = nn.CrossEntropyLoss()\n",
        "\n",
        "# Exemplo de uso:\n",
        "# Saída do modelo (logits) para um batch de 3 amostras e 10 classes\n",
        "output_logits = torch.randn(3, 10)\n",
        "# Rótulos verdadeiros\n",
        "target_labels = torch.tensor([1, 4, 9]) # Classe 1, Classe 4, Classe 9\n",
        "\n",
        "# Calculando a perda\n",
        "loss = loss_function(output_logits, target_labels)\n",
        "print(f\"Valor da perda (loss): {loss.item()}\")"
      ]
    },
    {
      "cell_type": "markdown",
      "id": "0a7e0143",
      "metadata": {
        "id": "0a7e0143"
      },
      "source": [
        "## 7. Otimizadores\n",
        "\n",
        "O otimizador implementa o algoritmo de atualização dos parâmetros do modelo, $\\theta$, com base nos gradientes da função de custo, $\\nabla_{\\theta} J(\\theta)$. O objetivo é convergir para um mínimo (local ou global) da função de custo.\n",
        "\n",
        "O algoritmo mais fundamental é o **Stochastic Gradient Descent (SGD)**. A regra de atualização para um parâmetro $\\theta$ no passo de tempo $t$ é definida como:\n",
        "$$\n",
        "\\theta_{t+1} = \\theta_t - \\eta \\nabla_{\\theta} J(\\theta_t)\n",
        "$$\n",
        "onde $\\eta$ é a taxa de aprendizado (*learning rate*), um hiperparâmetro que controla o tamanho do passo na direção do gradiente negativo.\n",
        "\n",
        "Otimizadores mais avançados, como o **Adam (Adaptive Moment Estimation)**, utilizam taxas de aprendizado adaptativas para cada parâmetro, mantendo uma estimativa do primeiro momento (a média) e do segundo momento (a variância não centrada) dos gradientes, o que frequentemente leva a uma convergência mais rápida."
      ]
    },
    {
      "cell_type": "code",
      "execution_count": 25,
      "id": "f2b6b718",
      "metadata": {
        "id": "f2b6b718"
      },
      "outputs": [],
      "source": [
        "# Instanciando o modelo\n",
        "learning_rate = 0.001\n",
        "model = NeuralNetwork(input_size=784, hidden_size=128, num_classes=10)\n",
        "\n",
        "# Instanciando o otimizador\n",
        "# Passamos os parâmetros do modelo que devem ser otimizados (model.parameters())\n",
        "# e a taxa de aprendizado (lr).\n",
        "optimizer = torch.optim.SGD(model.parameters(), lr=learning_rate)\n",
        "\n",
        "# O otimizador possui métodos cruciais:\n",
        "# optimizer.zero_grad(): Zera os gradientes de todos os parâmetros antes de um novo cálculo de backward pass.\n",
        "#   Isto é necessário porque o método .backward() acumula os gradientes por padrão.\n",
        "#\n",
        "# optimizer.step(): Atualiza os parâmetros do modelo usando a lógica do otimizador (e.g., Adam) e os gradientes\n",
        "#   armazenados no atributo .grad de cada parâmetro."
      ]
    },
    {
      "cell_type": "markdown",
      "id": "02499521",
      "metadata": {
        "id": "02499521"
      },
      "source": [
        "## 8. Treinamento: O Ciclo Completo\n",
        "\n",
        "O treinamento de uma rede neural consiste em um loop que itera sobre o dataset por várias \"épocas\" (*epochs*). Uma época é uma passagem completa por todo o dataset de treinamento. Dentro de cada época, iteramos sobre os *batches* de dados.\n",
        "\n",
        "Para cada *batch*, o ciclo de treinamento é:\n",
        "1.  **Zerar os gradientes**: Chamar `optimizer.zero_grad()`.\n",
        "2.  **Forward Pass**: Passar os dados de entrada pelo modelo para obter as previsões (logits).\n",
        "3.  **Calcular a Perda**: Comparar as previsões com os rótulos verdadeiros usando a função de custo.\n",
        "4.  **Backward Pass**: Chamar `loss.backward()` para calcular os gradientes da perda em relação a cada parâmetro do modelo.\n",
        "5.  **Atualizar os Pesos**: Chamar `optimizer.step()` para que o otimizador atualize os pesos com base nos gradientes."
      ]
    },
    {
      "cell_type": "code",
      "execution_count": 26,
      "id": "d21914f1",
      "metadata": {
        "colab": {
          "base_uri": "https://localhost:8080/",
          "height": 480,
          "referenced_widgets": [
            "c5e77219563e4391ac3de8db4cc8b71f",
            "ece8c6c596d4485882e4f59bf6f84fba",
            "ea8350670b454535b7eb2ab053aab8da",
            "13e9475b420545f7825f7425592882d9",
            "ff12568379d140c48fb756ed22ff09aa",
            "8a962ab25d5d45b4ad46e832ae847c99",
            "0d9938e0ea554e558b675482b4a031ac",
            "88e5c8d51529456b8baf9931034a322f",
            "c39dc7f2cb3e4bdf99f464e2abb64ec7",
            "2d591985745846709c90f55beb72ab6e",
            "7d681df5e2764eaf809f78dbed56d549",
            "2ca8601f91c949d2b8d06dcbbd10d676",
            "86588f8a76ef4ddb84f07f1289b8fec4",
            "16a0b9cf75904aa6875d48df1c4443ca",
            "95fb1e76d7044c1c99014ee6d0b17d01",
            "cae666c74c8b4691b74e4cd3406721dd",
            "b8110917352c4af899235842a255d398",
            "0ffb4a2637bf4ee3846d7efd5803c28b",
            "2340294391d741979af3eddaa786be70",
            "5bb9e4c5be4546bd848fbad9bd485c70",
            "b7765aab41f6470687fd5250bd46359e",
            "94c301524c2c4b5a973ae7175b500f31",
            "80934afc6b854ca89d8b036531ce5dc4",
            "a951c9d7528c470e8ebf7ef41ec416db",
            "dcdb2be9bcb24070b099c2a1e6c333dc",
            "47b0dbff539e4608bf62b5988703840f",
            "66596d48209240abaa6832fce31f7086",
            "d6603d9f8e8940cfa07396ad05622c58",
            "6eea3e30c4994f96aae1a289cc3fda12",
            "51c5b1060c044bda8a6ba466fccb6eff",
            "2734d40b84684dc1948ffb417582edb9",
            "76e66bb9afaf432ca41cbebce9bc4370",
            "5129e36021144b1696f56bbf97ff7d58",
            "9226e7d58cbf40ff8e9bee16602367d0",
            "5ec187dfbcd24b8ba5f8fc8320404ece",
            "a12d40aa9f904bc6a5088f0ff2963582",
            "d0d137c89b914c78b2e1550acff41580",
            "2dea78aaa32f4d4887183e9f7a0a2d68",
            "79cec95d1bbd4802a1510cf927854f7c",
            "2ef3702540834f2697bdbf791cc4ed47",
            "fc9bb02bde0a421386e2d4d8c7fb5fe5",
            "ac7842481d1e419f85a39b15d3a96777",
            "cf1bca72559346478d93350d7170c6f1",
            "63789b4671d64dfeb0dbab14a65e141e",
            "808674039f534c83b431366cca72f50b",
            "a8cd597f38e0420ead68b204fb3efefd",
            "c22450ac962e40b1ad433c044e4349d6",
            "8de5e8a13f654f55966daa4a48467487",
            "b7aead2d4b8846e3bab1856966d5e964",
            "ccd016a959a64cda8adfa5e542cb0bb3",
            "e2f752e0d7514c27b5877c360b5b5c95",
            "4881abb80cae42a08348bbb12dd98cf4",
            "9e7f38e05477457fb807fb314b268894",
            "b6fa5703e8894a9d83d42800e509973c",
            "d5afb56504d946a2a16c8d3e3fbbf103",
            "613678063acf4127ab2e3f88068da4c0",
            "8be9109424e6463688e2dab144b8d542",
            "5271ace0c227473bbc248a3e8dcbf91c",
            "43c9f61c74ed4b93a5f3ee0700c983d6",
            "ca0320e7af0040c58e12efb49e1f78f6",
            "01fd26b2178b4744a1ba983a83672695",
            "ec17376d55e140a782bee900e3b08408",
            "b5c8bb12ad2143518800d51c81d9e938",
            "8803040fee814e2d87ca9b678fdc60fd",
            "2795be890b744e2898b3b5b62bbdff61",
            "672b6ad87db142fbbfae763a48fffe92",
            "bab00ee66af04d599ccc61741ade0880",
            "9c780da41ef04a709f36330a196db360",
            "5a052dd8d80d41088fa722764ad4a953",
            "eaa55d629ebb4058b3c72aed9184cffc",
            "531d0d268fee4629a1d04c567c887835",
            "befc27339c464c1cbf12909b4dbeecbc",
            "eaee2d2d5389444287c74e757774f281",
            "e4cabb72edac48b3909b89f75489e366",
            "96afa1079b4f4b39ba7f3cca9bfb98b8",
            "8d4635b5462045d38e2434f2b49b5f3a",
            "c4f40718857543e79995e3b3fb4420d6",
            "6ff13b8eb09d49a6997d1f7d33667d2f",
            "50c9d12801a146bc9798b2fcbbc0579c",
            "34b661f7d0f649d1b9d4c2a8db3dc70f",
            "cae01108d5ca48ab8fcb60638832c26f",
            "723eb69659b54262a22c9010b5f26cca",
            "7bb2ba7f31454eaab1435c5d47c3e9ac",
            "f3089715f77948dba232e9c1653479ab",
            "69d3572cbab64a74b723204a500a14f9",
            "4bfcd95b0624477bbe6bbfd0db728af5",
            "846015dc450a4a65a852348264c1daa0",
            "8a130833f1f84276a84091b321f40176",
            "6122c9c739b54b22b0b999a958960674",
            "85ec0d96339d4a45898b40b914f08573",
            "12d81736580a4b9ca8600c87347dd7cf",
            "9e055882dbe4459e8ad612789fe93c2f",
            "18670bca0f5d48feaff851727c533ffb",
            "324f597138c94400ba37a99087130832",
            "33cbb4f85d4c467a8ffe6e1aeb65e7da",
            "4f93a03ec51a468c8f6255c6a8ab38a6",
            "80b5a6f69aaa4ed08d9dd60040fcffe9",
            "b814ab06620b437695b056f33c39086c",
            "bd102ba00ea04f2da531414e55afb663",
            "48c065afa9204a7391f5b0e2f1ae6dde",
            "36908299b2f549b1a5c5ea05a0dfbe01",
            "8cd0d1e5a2914acda7f88d798a9550c2",
            "05ddc265f9874a90a81fe7b442efaaf4",
            "ff8b7fc477a24911bb63a62c74712590",
            "e12349daea3848cebaf1c8934129a340",
            "5f0cdcd23706418ebb8baf58e219ce93",
            "e5eec4a5e3024ef691a09432a88d1dd0",
            "2d62e799b1604eedb8dff62054ad3dd8",
            "cbd6b70df282481c94de5ff0e905461b",
            "b80a4ba7f4e243e7ba8bb6bf52c3ee9a"
          ]
        },
        "id": "d21914f1",
        "outputId": "180f2a49-0235-4363-de11-0da0f66e3a50"
      },
      "outputs": [
        {
          "output_type": "stream",
          "name": "stdout",
          "text": [
            "Usando o dispositivo: cpu\n"
          ]
        },
        {
          "output_type": "display_data",
          "data": {
            "text/plain": [
              "Época [1/5] Treino:   0%|          | 0/469 [00:00<?, ?it/s]"
            ],
            "application/vnd.jupyter.widget-view+json": {
              "version_major": 2,
              "version_minor": 0,
              "model_id": "c5e77219563e4391ac3de8db4cc8b71f"
            }
          },
          "metadata": {}
        },
        {
          "output_type": "display_data",
          "data": {
            "text/plain": [
              "Época [1/5] Validação:   0%|          | 0/79 [00:00<?, ?it/s]"
            ],
            "application/vnd.jupyter.widget-view+json": {
              "version_major": 2,
              "version_minor": 0,
              "model_id": "2ca8601f91c949d2b8d06dcbbd10d676"
            }
          },
          "metadata": {}
        },
        {
          "output_type": "stream",
          "name": "stdout",
          "text": [
            "Fim da Época [1/5] | Perda Treino: 0.2311, Acurácia Treino: 93.16% | Perda Validação: 0.1055, Acurácia Validação: 96.61%\n"
          ]
        },
        {
          "output_type": "display_data",
          "data": {
            "text/plain": [
              "Época [2/5] Treino:   0%|          | 0/469 [00:00<?, ?it/s]"
            ],
            "application/vnd.jupyter.widget-view+json": {
              "version_major": 2,
              "version_minor": 0,
              "model_id": "80934afc6b854ca89d8b036531ce5dc4"
            }
          },
          "metadata": {}
        },
        {
          "output_type": "display_data",
          "data": {
            "text/plain": [
              "Época [2/5] Validação:   0%|          | 0/79 [00:00<?, ?it/s]"
            ],
            "application/vnd.jupyter.widget-view+json": {
              "version_major": 2,
              "version_minor": 0,
              "model_id": "9226e7d58cbf40ff8e9bee16602367d0"
            }
          },
          "metadata": {}
        },
        {
          "output_type": "stream",
          "name": "stdout",
          "text": [
            "Fim da Época [2/5] | Perda Treino: 0.0903, Acurácia Treino: 97.28% | Perda Validação: 0.0888, Acurácia Validação: 97.24%\n"
          ]
        },
        {
          "output_type": "display_data",
          "data": {
            "text/plain": [
              "Época [3/5] Treino:   0%|          | 0/469 [00:00<?, ?it/s]"
            ],
            "application/vnd.jupyter.widget-view+json": {
              "version_major": 2,
              "version_minor": 0,
              "model_id": "808674039f534c83b431366cca72f50b"
            }
          },
          "metadata": {}
        },
        {
          "output_type": "display_data",
          "data": {
            "text/plain": [
              "Época [3/5] Validação:   0%|          | 0/79 [00:00<?, ?it/s]"
            ],
            "application/vnd.jupyter.widget-view+json": {
              "version_major": 2,
              "version_minor": 0,
              "model_id": "613678063acf4127ab2e3f88068da4c0"
            }
          },
          "metadata": {}
        },
        {
          "output_type": "stream",
          "name": "stdout",
          "text": [
            "Fim da Época [3/5] | Perda Treino: 0.0573, Acurácia Treino: 98.27% | Perda Validação: 0.0787, Acurácia Validação: 97.52%\n"
          ]
        },
        {
          "output_type": "display_data",
          "data": {
            "text/plain": [
              "Época [4/5] Treino:   0%|          | 0/469 [00:00<?, ?it/s]"
            ],
            "application/vnd.jupyter.widget-view+json": {
              "version_major": 2,
              "version_minor": 0,
              "model_id": "bab00ee66af04d599ccc61741ade0880"
            }
          },
          "metadata": {}
        },
        {
          "output_type": "display_data",
          "data": {
            "text/plain": [
              "Época [4/5] Validação:   0%|          | 0/79 [00:00<?, ?it/s]"
            ],
            "application/vnd.jupyter.widget-view+json": {
              "version_major": 2,
              "version_minor": 0,
              "model_id": "6ff13b8eb09d49a6997d1f7d33667d2f"
            }
          },
          "metadata": {}
        },
        {
          "output_type": "stream",
          "name": "stdout",
          "text": [
            "Fim da Época [4/5] | Perda Treino: 0.0415, Acurácia Treino: 98.69% | Perda Validação: 0.0667, Acurácia Validação: 98.07%\n"
          ]
        },
        {
          "output_type": "display_data",
          "data": {
            "text/plain": [
              "Época [5/5] Treino:   0%|          | 0/469 [00:00<?, ?it/s]"
            ],
            "application/vnd.jupyter.widget-view+json": {
              "version_major": 2,
              "version_minor": 0,
              "model_id": "6122c9c739b54b22b0b999a958960674"
            }
          },
          "metadata": {}
        },
        {
          "output_type": "display_data",
          "data": {
            "text/plain": [
              "Época [5/5] Validação:   0%|          | 0/79 [00:00<?, ?it/s]"
            ],
            "application/vnd.jupyter.widget-view+json": {
              "version_major": 2,
              "version_minor": 0,
              "model_id": "48c065afa9204a7391f5b0e2f1ae6dde"
            }
          },
          "metadata": {}
        },
        {
          "output_type": "stream",
          "name": "stdout",
          "text": [
            "Fim da Época [5/5] | Perda Treino: 0.0306, Acurácia Treino: 99.04% | Perda Validação: 0.0599, Acurácia Validação: 98.10%\n",
            "\n",
            "Treinamento concluído!\n"
          ]
        }
      ],
      "source": [
        "import matplotlib.pyplot as plt\n",
        "from tqdm.notebook import tqdm\n",
        "\n",
        "# Hiperparâmetros\n",
        "num_epochs = 5\n",
        "input_size = 784 # 28x28\n",
        "hidden_size = 500\n",
        "num_classes = 10\n",
        "learning_rate = 0.001\n",
        "\n",
        "# Dispositivo (GPU se disponível, senão CPU)\n",
        "device = torch.device('cuda' if torch.cuda.is_available() else 'cpu')\n",
        "print(f\"Usando o dispositivo: {device}\")\n",
        "\n",
        "# Instanciando o modelo, função de custo e otimizador e movendo o modelo para o dispositivo\n",
        "model = NeuralNetwork(input_size, hidden_size, num_classes).to(device)\n",
        "criterion = nn.CrossEntropyLoss()\n",
        "optimizer = torch.optim.Adam(model.parameters(), lr=learning_rate)\n",
        "\n",
        "# Listas para armazenar as métricas de cada época\n",
        "train_losses = []\n",
        "val_losses = []\n",
        "train_accuracies = []\n",
        "val_accuracies = []\n",
        "\n",
        "# Loop de treinamento\n",
        "for epoch in range(num_epochs):\n",
        "    # --- Treinamento ---\n",
        "    model.train() # Coloca o modelo em modo de treinamento\n",
        "    running_loss = 0.0\n",
        "    correct_train = 0\n",
        "    total_train = 0\n",
        "\n",
        "    progress_bar_train = tqdm(train_loader, desc=f'Época [{epoch+1}/{num_epochs}] Treino')\n",
        "\n",
        "    for images, labels in progress_bar_train:\n",
        "        images = images.reshape(-1, 28*28).to(device)\n",
        "        labels = labels.to(device)\n",
        "\n",
        "        # Forward pass\n",
        "        outputs = model(images)\n",
        "        loss = criterion(outputs, labels)\n",
        "\n",
        "        # Backward e otimização\n",
        "        optimizer.zero_grad()\n",
        "        loss.backward()\n",
        "        optimizer.step()\n",
        "\n",
        "        running_loss += loss.item()\n",
        "\n",
        "        # Calcula a acurácia de treino\n",
        "        _, predicted = torch.max(outputs.data, 1)\n",
        "        total_train += labels.size(0)\n",
        "        correct_train += (predicted == labels).sum().item()\n",
        "\n",
        "        progress_bar_train.set_postfix({'Perda Treino': f'{loss.item():.4f}'})\n",
        "\n",
        "    epoch_train_loss = running_loss / len(train_loader)\n",
        "    epoch_train_acc = 100 * correct_train / total_train\n",
        "    train_losses.append(epoch_train_loss)\n",
        "    train_accuracies.append(epoch_train_acc)\n",
        "\n",
        "    # --- Validação ---\n",
        "    model.eval() # Coloca o modelo em modo de avaliação\n",
        "    running_val_loss = 0.0\n",
        "    correct_val = 0\n",
        "    total_val = 0\n",
        "\n",
        "    progress_bar_val = tqdm(test_loader, desc=f'Época [{epoch+1}/{num_epochs}] Validação')\n",
        "\n",
        "    with torch.no_grad(): # Desabilita o cálculo de gradientes\n",
        "        for images, labels in progress_bar_val:\n",
        "            images = images.reshape(-1, 28*28).to(device)\n",
        "            labels = labels.to(device)\n",
        "\n",
        "            outputs = model(images)\n",
        "            loss = criterion(outputs, labels)\n",
        "            running_val_loss += loss.item()\n",
        "\n",
        "            # Calcula a acurácia de validação\n",
        "            _, predicted = torch.max(outputs.data, 1)\n",
        "            total_val += labels.size(0)\n",
        "            correct_val += (predicted == labels).sum().item()\n",
        "\n",
        "            progress_bar_val.set_postfix({'Perda Val': f'{loss.item():.4f}'})\n",
        "\n",
        "    epoch_val_loss = running_val_loss / len(test_loader)\n",
        "    epoch_val_acc = 100 * correct_val / total_val\n",
        "    val_losses.append(epoch_val_loss)\n",
        "    val_accuracies.append(epoch_val_acc)\n",
        "\n",
        "    print(f'Fim da Época [{epoch+1}/{num_epochs}] | '\n",
        "          f'Perda Treino: {epoch_train_loss:.4f}, Acurácia Treino: {epoch_train_acc:.2f}% | '\n",
        "          f'Perda Validação: {epoch_val_loss:.4f}, Acurácia Validação: {epoch_val_acc:.2f}%')\n",
        "\n",
        "print(\"\\nTreinamento concluído!\")"
      ]
    },
    {
      "cell_type": "markdown",
      "id": "a2525033",
      "metadata": {
        "id": "a2525033"
      },
      "source": [
        "### Visualização das Curvas de Aprendizado\n",
        "\n",
        "As curvas de aprendizado plotam as métricas de desempenho (como perda e acurácia) para os conjuntos de treinamento e validação ao longo das épocas. Elas são ferramentas de diagnóstico essenciais:\n",
        "\n",
        "-   **Curva de Perda (Loss Curve)**: Mostra a evolução da função de custo. Idealmente, ambas as perdas (treino e validação) devem diminuir. Se a perda de validação começar a aumentar enquanto a de treino continua caindo, é um sinal claro de *overfitting*.\n",
        "-   **Curva de Acurácia (Accuracy Curve)**: Mostra a evolução da acurácia. Idealmente, ambas devem aumentar e convergir. Uma grande diferença entre a acurácia de treino e a de validação também indica *overfitting*."
      ]
    },
    {
      "cell_type": "code",
      "execution_count": 27,
      "id": "6a99a8cb",
      "metadata": {
        "colab": {
          "base_uri": "https://localhost:8080/",
          "height": 443
        },
        "id": "6a99a8cb",
        "outputId": "2e17d0d0-71cb-49aa-cd51-008de35435ad"
      },
      "outputs": [
        {
          "output_type": "display_data",
          "data": {
            "text/plain": [
              "<Figure size 1500x500 with 2 Axes>"
            ],
            "image/png": "[encoded data removed]"
          },
          "metadata": {}
        }
      ],
      "source": [
        "# Criando os plots\n",
        "fig, axs = plt.subplots(1, 2, figsize=(15, 5))\n",
        "\n",
        "# Plot da Curva de Perda\n",
        "axs[0].plot(train_losses, label='Perda de Treino')\n",
        "axs[0].plot(val_losses, label='Perda de Validação')\n",
        "axs[0].set_title(\"Curvas de Perda\")\n",
        "axs[0].set_xlabel(\"Época\")\n",
        "axs[0].set_ylabel(\"Perda (Cross-Entropy Loss)\")\n",
        "axs[0].legend()\n",
        "axs[0].grid(True)\n",
        "\n",
        "# Plot da Curva de Acurácia\n",
        "axs[1].plot(train_accuracies, label='Acurácia de Treino')\n",
        "axs[1].plot(val_accuracies, label='Acurácia de Validação')\n",
        "axs[1].set_title(\"Curvas de Acurácia\")\n",
        "axs[1].set_xlabel(\"Época\")\n",
        "axs[1].set_ylabel(\"Acurácia (%)\")\n",
        "axs[1].legend()\n",
        "axs[1].grid(True)\n",
        "\n",
        "plt.tight_layout()\n",
        "plt.show()"
      ]
    },
    {
      "cell_type": "markdown",
      "id": "4d0b83e7",
      "metadata": {
        "id": "4d0b83e7"
      },
      "source": [
        "### Avaliação do Modelo\n",
        "\n",
        "Após o treinamento, é fundamental avaliar a performance do modelo em dados que ele nunca viu, ou seja, o conjunto de teste. Durante a avaliação, não precisamos calcular gradientes, o que economiza memória e computação. Para isso, usamos o contexto `torch.no_grad()`."
      ]
    },
    {
      "cell_type": "code",
      "execution_count": 28,
      "id": "47c09725",
      "metadata": {
        "colab": {
          "base_uri": "https://localhost:8080/"
        },
        "id": "47c09725",
        "outputId": "29a09802-2e35-459b-b9b6-d5358149ca22"
      },
      "outputs": [
        {
          "output_type": "stream",
          "name": "stdout",
          "text": [
            "Acurácia do modelo no dataset de teste: 98.10 %\n"
          ]
        }
      ],
      "source": [
        "# Colocando o modelo em modo de avaliação (desativa camadas como Dropout, se houver)\n",
        "model.eval()\n",
        "\n",
        "# O contexto torch.no_grad() desabilita o cálculo de gradientes\n",
        "with torch.no_grad():\n",
        "    correct = 0\n",
        "    total = 0\n",
        "    for images, labels in test_loader:\n",
        "        images = images.reshape(-1, 28*28).to(device)\n",
        "        labels = labels.to(device)\n",
        "\n",
        "        # Forward pass\n",
        "        outputs = model(images)\n",
        "\n",
        "        # A classe com o maior logit é a previsão\n",
        "        _, predicted = torch.max(outputs.data, 1)\n",
        "\n",
        "        total += labels.size(0)\n",
        "        correct += (predicted == labels).sum().item()\n",
        "\n",
        "    print(f'Acurácia do modelo no dataset de teste: {100 * correct / total:.2f} %')"
      ]
    },
    {
      "cell_type": "markdown",
      "id": "b287eaec",
      "metadata": {
        "id": "b287eaec"
      },
      "source": [
        "### Exercícios"
      ]
    },
    {
      "cell_type": "markdown",
      "id": "84bf7fc9",
      "metadata": {
        "id": "84bf7fc9"
      },
      "source": [
        "#### Exercício 1: Praticando com o `autograd`\n",
        "\n",
        "Calcule os gradientes da função $L = 2a^3 + 3b^2$ em relação a `a` e `b`.\n",
        "\n",
        "1.  Defina dois tensores, `a` e `b`, com os valores `a=2.0` e `b=5.0`. Lembre-se de definir `requires_grad=True`.\n",
        "2.  Escreva a operação em PyTorch para calcular `L`.\n",
        "3.  Use `.backward()` para calcular os gradientes.\n",
        "4.  Imprima `a.grad` e `b.grad`.\n",
        "5.  **Verificação:** Calcule as derivadas parciais $\\frac{\\partial L}{\\partial a}$ e $\\frac{\\partial L}{\\partial b}$ manualmente e confirme se os resultados correspondem aos do PyTorch."
      ]
    },
    {
      "cell_type": "code",
      "source": [
        "import torch\n",
        "\n",
        "a = torch.tensor(2.0, requires_grad=True)\n",
        "b = torch.tensor(5.0, requires_grad=True)\n",
        "\n",
        "print(f\"Tensor 'a': {a}\")\n",
        "print(f\"Tensor 'b': {b}\")\n",
        "\n",
        "L = (2 * a**3) + (3 * b**2)\n",
        "\n",
        "print(f\"\\nValor de L: {L.item()}\")\n",
        "\n",
        "L.backward()\n",
        "\n",
        "print(f\"\\nDerivada parcial a: {a.grad}\")\n",
        "print(f\"\\nDerivada parcial b: {b.grad}\")\n",
        "\n",
        "# 5. Verificação manual:\n",
        "# Derivada parcial de L em relação a a: dL/da = d/da (2a^3 + 3b^2) = 6a^2\n",
        "# Derivada parcial de L em relação a b: dL/db = d/db (2a^3 + 3b^2) = 6b\n",
        "\n",
        "# Para a=2.0: dL/da = 6 * (2.0)^2 = 6 * 4.0 = 24.0\n",
        "# Para b=5.0: dL/db = 6 * (5.0) = 30.0\n",
        "\n",
        "print(\"\\nVerificação manual:\")\n",
        "print(f\"Cálculo manual dL/da (para a=2.0): {6 * (2.0)**2}\")\n",
        "print(f\"Cálculo manual dL/db (para b=5.0): {6 * 5.0}\")"
      ],
      "metadata": {
        "colab": {
          "base_uri": "https://localhost:8080/"
        },
        "id": "Dfmnv10ssdIB",
        "outputId": "ba49c11b-b43a-4503-900f-84945eb47736"
      },
      "id": "Dfmnv10ssdIB",
      "execution_count": 29,
      "outputs": [
        {
          "output_type": "stream",
          "name": "stdout",
          "text": [
            "Tensor 'a': 2.0\n",
            "Tensor 'b': 5.0\n",
            "\n",
            "Valor de L: 91.0\n",
            "\n",
            "Derivada parcial a: 24.0\n",
            "\n",
            "Derivada parcial b: 30.0\n",
            "\n",
            "Verificação manual:\n",
            "Cálculo manual dL/da (para a=2.0): 24.0\n",
            "Cálculo manual dL/db (para b=5.0): 30.0\n"
          ]
        }
      ]
    },
    {
      "cell_type": "markdown",
      "id": "15bf6d98",
      "metadata": {
        "id": "15bf6d98"
      },
      "source": [
        "#### Exercício 2: Aprofundando a Arquitetura da Rede\n",
        "\n",
        "Modifique a classe `NeuralNetwork` para que ela tenha **duas camadas ocultas** em vez de uma. A nova arquitetura deve ser:\n",
        "`Entrada (784) -> Camada Linear (256 neurônios) -> ReLU -> Camada Linear (128 neurônios) -> ReLU -> Saída (10 neurônios)`. Em seguida, treine o novo modelo e compare com as curvas de treinamento do modelo original."
      ]
    },
    {
      "cell_type": "code",
      "source": [
        "from torch import nn\n",
        "\n",
        "class NeuralNetwork(nn.Module):\n",
        "    def __init__(self):\n",
        "        super(NeuralNetwork, self).__init__()\n",
        "        self.layer1 = nn.Linear(784, 256)\n",
        "        self.relu = nn.ReLU()\n",
        "        self.layer2 = nn.Linear(256, 128)\n",
        "        self.relu2 = nn.ReLU()\n",
        "        self.layer3 = nn.Linear(128, 10)\n",
        "\n",
        "    def forward(self, x):\n",
        "        out = self.layer1(x)\n",
        "        out = self.relu(out)\n",
        "        out = self.layer2(out)\n",
        "        out = self.relu(out)\n",
        "        out = self.layer3(out)\n",
        "        return out\n",
        "\n",
        "# Criando um tensor de entrada de exemplo\n",
        "inputs = torch.randn(64, 784)\n",
        "\n",
        "# Instanciando o modelo\n",
        "model_class = NeuralNetwork()\n",
        "\n",
        "logits_class = model_class(inputs)\n",
        "\n",
        "print(f\"Formato da saída do modelo (classe): {logits_class.shape}\")\n",
        "print(f\"\\nEstrutura do modelo:\\n{model_class}\")\n",
        "\n"
      ],
      "metadata": {
        "colab": {
          "base_uri": "https://localhost:8080/"
        },
        "id": "xwiSs83RvU7j",
        "outputId": "52d0144d-2ced-4efd-d7f4-bec0fe0aa3cb"
      },
      "id": "xwiSs83RvU7j",
      "execution_count": 37,
      "outputs": [
        {
          "output_type": "stream",
          "name": "stdout",
          "text": [
            "Formato da saída do modelo (classe): torch.Size([64, 10])\n",
            "\n",
            "Estrutura do modelo:\n",
            "NeuralNetwork(\n",
            "  (layer1): Linear(in_features=784, out_features=256, bias=True)\n",
            "  (relu): ReLU()\n",
            "  (layer2): Linear(in_features=256, out_features=128, bias=True)\n",
            "  (relu2): ReLU()\n",
            "  (layer3): Linear(in_features=128, out_features=10, bias=True)\n",
            ")\n"
          ]
        }
      ]
    },
    {
      "cell_type": "markdown",
      "id": "bba96cb0",
      "metadata": {
        "id": "bba96cb0"
      },
      "source": [
        "#### Exercício 3: Otimizadores e Taxa de Aprendizado\n",
        "\n",
        "Altere a taxa de aprendizado no loop de treinamento. Utilize valores maiores (como `lr=1.0`) e menores (como `lr=0.0001`) do que o original. Como as curvas de treinamento se comportaram em cada ocasião?"
      ]
    },
    {
      "cell_type": "markdown",
      "id": "d87afae1",
      "metadata": {
        "id": "d87afae1"
      },
      "source": [
        "#### Exercício 4: Criando um Dataset para Regressão\n",
        "\n",
        "Crie uma classe de `Dataset` customizada para um problema de regressão simples. O dataset deve gerar dados sintéticos onde `y` é uma função linear de `x` com um pouco de ruído.\n",
        "\n",
        "Crie uma classe `RegressionDataset` que herde de `torch.utils.data.Dataset`. No `__init__`, crie um tensor `X` com 1000 pontos aleatórios entre -10 e 10 e crie um tensor `y` correspondente usando a fórmula $y = 5x - 3 + \\text{ruído}$ (use `torch.randn` para o ruído). Implemente os métodos `__len__` e `__getitem__` e use um `DataLoader` para extrair o primeiro lote (batch). Imprima o formato dos tensores de features e labels do lote para confirmar que seu pipeline de dados está funcionando corretamente."
      ]
    }
  ],
  "metadata": {
    "kernelspec": {
      "display_name": "base",
      "language": "python",
      "name": "python3"
    },
    "language_info": {
      "codemirror_mode": {
        "name": "ipython",
        "version": 3
      },
      "file_extension": ".py",
      "mimetype": "text/x-python",
      "name": "python",
      "nbconvert_exporter": "python",
      "pygments_lexer": "ipython3",
      "version": "3.10.9"
    },
    "colab": {
      "provenance": []
    },
    "widgets": {
      "application/vnd.jupyter.widget-state+json": {
        "c5e77219563e4391ac3de8db4cc8b71f": {
          "model_module": "@jupyter-widgets/controls",
          "model_name": "HBoxModel",
          "model_module_version": "1.5.0",
          "state": {
            "_dom_classes": [],
            "_model_module": "@jupyter-widgets/controls",
            "_model_module_version": "1.5.0",
            "_model_name": "HBoxModel",
            "_view_count": null,
            "_view_module": "@jupyter-widgets/controls",
            "_view_module_version": "1.5.0",
            "_view_name": "HBoxView",
            "box_style": "",
            "children": [
              "IPY_MODEL_ece8c6c596d4485882e4f59bf6f84fba",
              "IPY_MODEL_ea8350670b454535b7eb2ab053aab8da",
              "IPY_MODEL_13e9475b420545f7825f7425592882d9"
            ],
            "layout": "IPY_MODEL_ff12568379d140c48fb756ed22ff09aa"
          }
        },
        "ece8c6c596d4485882e4f59bf6f84fba": {
          "model_module": "@jupyter-widgets/controls",
          "model_name": "HTMLModel",
          "model_module_version": "1.5.0",
          "state": {
            "_dom_classes": [],
            "_model_module": "@jupyter-widgets/controls",
            "_model_module_version": "1.5.0",
            "_model_name": "HTMLModel",
            "_view_count": null,
            "_view_module": "@jupyter-widgets/controls",
            "_view_module_version": "1.5.0",
            "_view_name": "HTMLView",
            "description": "",
            "description_tooltip": null,
            "layout": "IPY_MODEL_8a962ab25d5d45b4ad46e832ae847c99",
            "placeholder": "​",
            "style": "IPY_MODEL_0d9938e0ea554e558b675482b4a031ac",
            "value": "Época [1/5] Treino: 100%"
          }
        },
        "ea8350670b454535b7eb2ab053aab8da": {
          "model_module": "@jupyter-widgets/controls",
          "model_name": "FloatProgressModel",
          "model_module_version": "1.5.0",
          "state": {
            "_dom_classes": [],
            "_model_module": "@jupyter-widgets/controls",
            "_model_module_version": "1.5.0",
            "_model_name": "FloatProgressModel",
            "_view_count": null,
            "_view_module": "@jupyter-widgets/controls",
            "_view_module_version": "1.5.0",
            "_view_name": "ProgressView",
            "bar_style": "success",
            "description": "",
            "description_tooltip": null,
            "layout": "IPY_MODEL_88e5c8d51529456b8baf9931034a322f",
            "max": 469,
            "min": 0,
            "orientation": "horizontal",
            "style": "IPY_MODEL_c39dc7f2cb3e4bdf99f464e2abb64ec7",
            "value": 469
          }
        },
        "13e9475b420545f7825f7425592882d9": {
          "model_module": "@jupyter-widgets/controls",
          "model_name": "HTMLModel",
          "model_module_version": "1.5.0",
          "state": {
            "_dom_classes": [],
            "_model_module": "@jupyter-widgets/controls",
            "_model_module_version": "1.5.0",
            "_model_name": "HTMLModel",
            "_view_count": null,
            "_view_module": "@jupyter-widgets/controls",
            "_view_module_version": "1.5.0",
            "_view_name": "HTMLView",
            "description": "",
            "description_tooltip": null,
            "layout": "IPY_MODEL_2d591985745846709c90f55beb72ab6e",
            "placeholder": "​",
            "style": "IPY_MODEL_7d681df5e2764eaf809f78dbed56d549",
            "value": " 469/469 [00:19&lt;00:00, 26.79it/s, Perda Treino=0.1120]"
          }
        },
        "ff12568379d140c48fb756ed22ff09aa": {
          "model_module": "@jupyter-widgets/base",
          "model_name": "LayoutModel",
          "model_module_version": "1.2.0",
          "state": {
            "_model_module": "@jupyter-widgets/base",
            "_model_module_version": "1.2.0",
            "_model_name": "LayoutModel",
            "_view_count": null,
            "_view_module": "@jupyter-widgets/base",
            "_view_module_version": "1.2.0",
            "_view_name": "LayoutView",
            "align_content": null,
            "align_items": null,
            "align_self": null,
            "border": null,
            "bottom": null,
            "display": null,
            "flex": null,
            "flex_flow": null,
            "grid_area": null,
            "grid_auto_columns": null,
            "grid_auto_flow": null,
            "grid_auto_rows": null,
            "grid_column": null,
            "grid_gap": null,
            "grid_row": null,
            "grid_template_areas": null,
            "grid_template_columns": null,
            "grid_template_rows": null,
            "height": null,
            "justify_content": null,
            "justify_items": null,
            "left": null,
            "margin": null,
            "max_height": null,
            "max_width": null,
            "min_height": null,
            "min_width": null,
            "object_fit": null,
            "object_position": null,
            "order": null,
            "overflow": null,
            "overflow_x": null,
            "overflow_y": null,
            "padding": null,
            "right": null,
            "top": null,
            "visibility": null,
            "width": null
          }
        },
        "8a962ab25d5d45b4ad46e832ae847c99": {
          "model_module": "@jupyter-widgets/base",
          "model_name": "LayoutModel",
          "model_module_version": "1.2.0",
          "state": {
            "_model_module": "@jupyter-widgets/base",
            "_model_module_version": "1.2.0",
            "_model_name": "LayoutModel",
            "_view_count": null,
            "_view_module": "@jupyter-widgets/base",
            "_view_module_version": "1.2.0",
            "_view_name": "LayoutView",
            "align_content": null,
            "align_items": null,
            "align_self": null,
            "border": null,
            "bottom": null,
            "display": null,
            "flex": null,
            "flex_flow": null,
            "grid_area": null,
            "grid_auto_columns": null,
            "grid_auto_flow": null,
            "grid_auto_rows": null,
            "grid_column": null,
            "grid_gap": null,
            "grid_row": null,
            "grid_template_areas": null,
            "grid_template_columns": null,
            "grid_template_rows": null,
            "height": null,
            "justify_content": null,
            "justify_items": null,
            "left": null,
            "margin": null,
            "max_height": null,
            "max_width": null,
            "min_height": null,
            "min_width": null,
            "object_fit": null,
            "object_position": null,
            "order": null,
            "overflow": null,
            "overflow_x": null,
            "overflow_y": null,
            "padding": null,
            "right": null,
            "top": null,
            "visibility": null,
            "width": null
          }
        },
        "0d9938e0ea554e558b675482b4a031ac": {
          "model_module": "@jupyter-widgets/controls",
          "model_name": "DescriptionStyleModel",
          "model_module_version": "1.5.0",
          "state": {
            "_model_module": "@jupyter-widgets/controls",
            "_model_module_version": "1.5.0",
            "_model_name": "DescriptionStyleModel",
            "_view_count": null,
            "_view_module": "@jupyter-widgets/base",
            "_view_module_version": "1.2.0",
            "_view_name": "StyleView",
            "description_width": ""
          }
        },
        "88e5c8d51529456b8baf9931034a322f": {
          "model_module": "@jupyter-widgets/base",
          "model_name": "LayoutModel",
          "model_module_version": "1.2.0",
          "state": {
            "_model_module": "@jupyter-widgets/base",
            "_model_module_version": "1.2.0",
            "_model_name": "LayoutModel",
            "_view_count": null,
            "_view_module": "@jupyter-widgets/base",
            "_view_module_version": "1.2.0",
            "_view_name": "LayoutView",
            "align_content": null,
            "align_items": null,
            "align_self": null,
            "border": null,
            "bottom": null,
            "display": null,
            "flex": null,
            "flex_flow": null,
            "grid_area": null,
            "grid_auto_columns": null,
            "grid_auto_flow": null,
            "grid_auto_rows": null,
            "grid_column": null,
            "grid_gap": null,
            "grid_row": null,
            "grid_template_areas": null,
            "grid_template_columns": null,
            "grid_template_rows": null,
            "height": null,
            "justify_content": null,
            "justify_items": null,
            "left": null,
            "margin": null,
            "max_height": null,
            "max_width": null,
            "min_height": null,
            "min_width": null,
            "object_fit": null,
            "object_position": null,
            "order": null,
            "overflow": null,
            "overflow_x": null,
            "overflow_y": null,
            "padding": null,
            "right": null,
            "top": null,
            "visibility": null,
            "width": null
          }
        },
        "c39dc7f2cb3e4bdf99f464e2abb64ec7": {
          "model_module": "@jupyter-widgets/controls",
          "model_name": "ProgressStyleModel",
          "model_module_version": "1.5.0",
          "state": {
            "_model_module": "@jupyter-widgets/controls",
            "_model_module_version": "1.5.0",
            "_model_name": "ProgressStyleModel",
            "_view_count": null,
            "_view_module": "@jupyter-widgets/base",
            "_view_module_version": "1.2.0",
            "_view_name": "StyleView",
            "bar_color": null,
            "description_width": ""
          }
        },
        "2d591985745846709c90f55beb72ab6e": {
          "model_module": "@jupyter-widgets/base",
          "model_name": "LayoutModel",
          "model_module_version": "1.2.0",
          "state": {
            "_model_module": "@jupyter-widgets/base",
            "_model_module_version": "1.2.0",
            "_model_name": "LayoutModel",
            "_view_count": null,
            "_view_module": "@jupyter-widgets/base",
            "_view_module_version": "1.2.0",
            "_view_name": "LayoutView",
            "align_content": null,
            "align_items": null,
            "align_self": null,
            "border": null,
            "bottom": null,
            "display": null,
            "flex": null,
            "flex_flow": null,
            "grid_area": null,
            "grid_auto_columns": null,
            "grid_auto_flow": null,
            "grid_auto_rows": null,
            "grid_column": null,
            "grid_gap": null,
            "grid_row": null,
            "grid_template_areas": null,
            "grid_template_columns": null,
            "grid_template_rows": null,
            "height": null,
            "justify_content": null,
            "justify_items": null,
            "left": null,
            "margin": null,
            "max_height": null,
            "max_width": null,
            "min_height": null,
            "min_width": null,
            "object_fit": null,
            "object_position": null,
            "order": null,
            "overflow": null,
            "overflow_x": null,
            "overflow_y": null,
            "padding": null,
            "right": null,
            "top": null,
            "visibility": null,
            "width": null
          }
        },
        "7d681df5e2764eaf809f78dbed56d549": {
          "model_module": "@jupyter-widgets/controls",
          "model_name": "DescriptionStyleModel",
          "model_module_version": "1.5.0",
          "state": {
            "_model_module": "@jupyter-widgets/controls",
            "_model_module_version": "1.5.0",
            "_model_name": "DescriptionStyleModel",
            "_view_count": null,
            "_view_module": "@jupyter-widgets/base",
            "_view_module_version": "1.2.0",
            "_view_name": "StyleView",
            "description_width": ""
          }
        },
        "2ca8601f91c949d2b8d06dcbbd10d676": {
          "model_module": "@jupyter-widgets/controls",
          "model_name": "HBoxModel",
          "model_module_version": "1.5.0",
          "state": {
            "_dom_classes": [],
            "_model_module": "@jupyter-widgets/controls",
            "_model_module_version": "1.5.0",
            "_model_name": "HBoxModel",
            "_view_count": null,
            "_view_module": "@jupyter-widgets/controls",
            "_view_module_version": "1.5.0",
            "_view_name": "HBoxView",
            "box_style": "",
            "children": [
              "IPY_MODEL_86588f8a76ef4ddb84f07f1289b8fec4",
              "IPY_MODEL_16a0b9cf75904aa6875d48df1c4443ca",
              "IPY_MODEL_95fb1e76d7044c1c99014ee6d0b17d01"
            ],
            "layout": "IPY_MODEL_cae666c74c8b4691b74e4cd3406721dd"
          }
        },
        "86588f8a76ef4ddb84f07f1289b8fec4": {
          "model_module": "@jupyter-widgets/controls",
          "model_name": "HTMLModel",
          "model_module_version": "1.5.0",
          "state": {
            "_dom_classes": [],
            "_model_module": "@jupyter-widgets/controls",
            "_model_module_version": "1.5.0",
            "_model_name": "HTMLModel",
            "_view_count": null,
            "_view_module": "@jupyter-widgets/controls",
            "_view_module_version": "1.5.0",
            "_view_name": "HTMLView",
            "description": "",
            "description_tooltip": null,
            "layout": "IPY_MODEL_b8110917352c4af899235842a255d398",
            "placeholder": "​",
            "style": "IPY_MODEL_0ffb4a2637bf4ee3846d7efd5803c28b",
            "value": "Época [1/5] Validação: 100%"
          }
        },
        "16a0b9cf75904aa6875d48df1c4443ca": {
          "model_module": "@jupyter-widgets/controls",
          "model_name": "FloatProgressModel",
          "model_module_version": "1.5.0",
          "state": {
            "_dom_classes": [],
            "_model_module": "@jupyter-widgets/controls",
            "_model_module_version": "1.5.0",
            "_model_name": "FloatProgressModel",
            "_view_count": null,
            "_view_module": "@jupyter-widgets/controls",
            "_view_module_version": "1.5.0",
            "_view_name": "ProgressView",
            "bar_style": "success",
            "description": "",
            "description_tooltip": null,
            "layout": "IPY_MODEL_2340294391d741979af3eddaa786be70",
            "max": 79,
            "min": 0,
            "orientation": "horizontal",
            "style": "IPY_MODEL_5bb9e4c5be4546bd848fbad9bd485c70",
            "value": 79
          }
        },
        "95fb1e76d7044c1c99014ee6d0b17d01": {
          "model_module": "@jupyter-widgets/controls",
          "model_name": "HTMLModel",
          "model_module_version": "1.5.0",
          "state": {
            "_dom_classes": [],
            "_model_module": "@jupyter-widgets/controls",
            "_model_module_version": "1.5.0",
            "_model_name": "HTMLModel",
            "_view_count": null,
            "_view_module": "@jupyter-widgets/controls",
            "_view_module_version": "1.5.0",
            "_view_name": "HTMLView",
            "description": "",
            "description_tooltip": null,
            "layout": "IPY_MODEL_b7765aab41f6470687fd5250bd46359e",
            "placeholder": "​",
            "style": "IPY_MODEL_94c301524c2c4b5a973ae7175b500f31",
            "value": " 79/79 [00:02&lt;00:00, 29.57it/s, Perda Val=0.0125]"
          }
        },
        "cae666c74c8b4691b74e4cd3406721dd": {
          "model_module": "@jupyter-widgets/base",
          "model_name": "LayoutModel",
          "model_module_version": "1.2.0",
          "state": {
            "_model_module": "@jupyter-widgets/base",
            "_model_module_version": "1.2.0",
            "_model_name": "LayoutModel",
            "_view_count": null,
            "_view_module": "@jupyter-widgets/base",
            "_view_module_version": "1.2.0",
            "_view_name": "LayoutView",
            "align_content": null,
            "align_items": null,
            "align_self": null,
            "border": null,
            "bottom": null,
            "display": null,
            "flex": null,
            "flex_flow": null,
            "grid_area": null,
            "grid_auto_columns": null,
            "grid_auto_flow": null,
            "grid_auto_rows": null,
            "grid_column": null,
            "grid_gap": null,
            "grid_row": null,
            "grid_template_areas": null,
            "grid_template_columns": null,
            "grid_template_rows": null,
            "height": null,
            "justify_content": null,
            "justify_items": null,
            "left": null,
            "margin": null,
            "max_height": null,
            "max_width": null,
            "min_height": null,
            "min_width": null,
            "object_fit": null,
            "object_position": null,
            "order": null,
            "overflow": null,
            "overflow_x": null,
            "overflow_y": null,
            "padding": null,
            "right": null,
            "top": null,
            "visibility": null,
            "width": null
          }
        },
        "b8110917352c4af899235842a255d398": {
          "model_module": "@jupyter-widgets/base",
          "model_name": "LayoutModel",
          "model_module_version": "1.2.0",
          "state": {
            "_model_module": "@jupyter-widgets/base",
            "_model_module_version": "1.2.0",
            "_model_name": "LayoutModel",
            "_view_count": null,
            "_view_module": "@jupyter-widgets/base",
            "_view_module_version": "1.2.0",
            "_view_name": "LayoutView",
            "align_content": null,
            "align_items": null,
            "align_self": null,
            "border": null,
            "bottom": null,
            "display": null,
            "flex": null,
            "flex_flow": null,
            "grid_area": null,
            "grid_auto_columns": null,
            "grid_auto_flow": null,
            "grid_auto_rows": null,
            "grid_column": null,
            "grid_gap": null,
            "grid_row": null,
            "grid_template_areas": null,
            "grid_template_columns": null,
            "grid_template_rows": null,
            "height": null,
            "justify_content": null,
            "justify_items": null,
            "left": null,
            "margin": null,
            "max_height": null,
            "max_width": null,
            "min_height": null,
            "min_width": null,
            "object_fit": null,
            "object_position": null,
            "order": null,
            "overflow": null,
            "overflow_x": null,
            "overflow_y": null,
            "padding": null,
            "right": null,
            "top": null,
            "visibility": null,
            "width": null
          }
        },
        "0ffb4a2637bf4ee3846d7efd5803c28b": {
          "model_module": "@jupyter-widgets/controls",
          "model_name": "DescriptionStyleModel",
          "model_module_version": "1.5.0",
          "state": {
            "_model_module": "@jupyter-widgets/controls",
            "_model_module_version": "1.5.0",
            "_model_name": "DescriptionStyleModel",
            "_view_count": null,
            "_view_module": "@jupyter-widgets/base",
            "_view_module_version": "1.2.0",
            "_view_name": "StyleView",
            "description_width": ""
          }
        },
        "2340294391d741979af3eddaa786be70": {
          "model_module": "@jupyter-widgets/base",
          "model_name": "LayoutModel",
          "model_module_version": "1.2.0",
          "state": {
            "_model_module": "@jupyter-widgets/base",
            "_model_module_version": "1.2.0",
            "_model_name": "LayoutModel",
            "_view_count": null,
            "_view_module": "@jupyter-widgets/base",
            "_view_module_version": "1.2.0",
            "_view_name": "LayoutView",
            "align_content": null,
            "align_items": null,
            "align_self": null,
            "border": null,
            "bottom": null,
            "display": null,
            "flex": null,
            "flex_flow": null,
            "grid_area": null,
            "grid_auto_columns": null,
            "grid_auto_flow": null,
            "grid_auto_rows": null,
            "grid_column": null,
            "grid_gap": null,
            "grid_row": null,
            "grid_template_areas": null,
            "grid_template_columns": null,
            "grid_template_rows": null,
            "height": null,
            "justify_content": null,
            "justify_items": null,
            "left": null,
            "margin": null,
            "max_height": null,
            "max_width": null,
            "min_height": null,
            "min_width": null,
            "object_fit": null,
            "object_position": null,
            "order": null,
            "overflow": null,
            "overflow_x": null,
            "overflow_y": null,
            "padding": null,
            "right": null,
            "top": null,
            "visibility": null,
            "width": null
          }
        },
        "5bb9e4c5be4546bd848fbad9bd485c70": {
          "model_module": "@jupyter-widgets/controls",
          "model_name": "ProgressStyleModel",
          "model_module_version": "1.5.0",
          "state": {
            "_model_module": "@jupyter-widgets/controls",
            "_model_module_version": "1.5.0",
            "_model_name": "ProgressStyleModel",
            "_view_count": null,
            "_view_module": "@jupyter-widgets/base",
            "_view_module_version": "1.2.0",
            "_view_name": "StyleView",
            "bar_color": null,
            "description_width": ""
          }
        },
        "b7765aab41f6470687fd5250bd46359e": {
          "model_module": "@jupyter-widgets/base",
          "model_name": "LayoutModel",
          "model_module_version": "1.2.0",
          "state": {
            "_model_module": "@jupyter-widgets/base",
            "_model_module_version": "1.2.0",
            "_model_name": "LayoutModel",
            "_view_count": null,
            "_view_module": "@jupyter-widgets/base",
            "_view_module_version": "1.2.0",
            "_view_name": "LayoutView",
            "align_content": null,
            "align_items": null,
            "align_self": null,
            "border": null,
            "bottom": null,
            "display": null,
            "flex": null,
            "flex_flow": null,
            "grid_area": null,
            "grid_auto_columns": null,
            "grid_auto_flow": null,
            "grid_auto_rows": null,
            "grid_column": null,
            "grid_gap": null,
            "grid_row": null,
            "grid_template_areas": null,
            "grid_template_columns": null,
            "grid_template_rows": null,
            "height": null,
            "justify_content": null,
            "justify_items": null,
            "left": null,
            "margin": null,
            "max_height": null,
            "max_width": null,
            "min_height": null,
            "min_width": null,
            "object_fit": null,
            "object_position": null,
            "order": null,
            "overflow": null,
            "overflow_x": null,
            "overflow_y": null,
            "padding": null,
            "right": null,
            "top": null,
            "visibility": null,
            "width": null
          }
        },
        "94c301524c2c4b5a973ae7175b500f31": {
          "model_module": "@jupyter-widgets/controls",
          "model_name": "DescriptionStyleModel",
          "model_module_version": "1.5.0",
          "state": {
            "_model_module": "@jupyter-widgets/controls",
            "_model_module_version": "1.5.0",
            "_model_name": "DescriptionStyleModel",
            "_view_count": null,
            "_view_module": "@jupyter-widgets/base",
            "_view_module_version": "1.2.0",
            "_view_name": "StyleView",
            "description_width": ""
          }
        },
        "80934afc6b854ca89d8b036531ce5dc4": {
          "model_module": "@jupyter-widgets/controls",
          "model_name": "HBoxModel",
          "model_module_version": "1.5.0",
          "state": {
            "_dom_classes": [],
            "_model_module": "@jupyter-widgets/controls",
            "_model_module_version": "1.5.0",
            "_model_name": "HBoxModel",
            "_view_count": null,
            "_view_module": "@jupyter-widgets/controls",
            "_view_module_version": "1.5.0",
            "_view_name": "HBoxView",
            "box_style": "",
            "children": [
              "IPY_MODEL_a951c9d7528c470e8ebf7ef41ec416db",
              "IPY_MODEL_dcdb2be9bcb24070b099c2a1e6c333dc",
              "IPY_MODEL_47b0dbff539e4608bf62b5988703840f"
            ],
            "layout": "IPY_MODEL_66596d48209240abaa6832fce31f7086"
          }
        },
        "a951c9d7528c470e8ebf7ef41ec416db": {
          "model_module": "@jupyter-widgets/controls",
          "model_name": "HTMLModel",
          "model_module_version": "1.5.0",
          "state": {
            "_dom_classes": [],
            "_model_module": "@jupyter-widgets/controls",
            "_model_module_version": "1.5.0",
            "_model_name": "HTMLModel",
            "_view_count": null,
            "_view_module": "@jupyter-widgets/controls",
            "_view_module_version": "1.5.0",
            "_view_name": "HTMLView",
            "description": "",
            "description_tooltip": null,
            "layout": "IPY_MODEL_d6603d9f8e8940cfa07396ad05622c58",
            "placeholder": "​",
            "style": "IPY_MODEL_6eea3e30c4994f96aae1a289cc3fda12",
            "value": "Época [2/5] Treino: 100%"
          }
        },
        "dcdb2be9bcb24070b099c2a1e6c333dc": {
          "model_module": "@jupyter-widgets/controls",
          "model_name": "FloatProgressModel",
          "model_module_version": "1.5.0",
          "state": {
            "_dom_classes": [],
            "_model_module": "@jupyter-widgets/controls",
            "_model_module_version": "1.5.0",
            "_model_name": "FloatProgressModel",
            "_view_count": null,
            "_view_module": "@jupyter-widgets/controls",
            "_view_module_version": "1.5.0",
            "_view_name": "ProgressView",
            "bar_style": "success",
            "description": "",
            "description_tooltip": null,
            "layout": "IPY_MODEL_51c5b1060c044bda8a6ba466fccb6eff",
            "max": 469,
            "min": 0,
            "orientation": "horizontal",
            "style": "IPY_MODEL_2734d40b84684dc1948ffb417582edb9",
            "value": 469
          }
        },
        "47b0dbff539e4608bf62b5988703840f": {
          "model_module": "@jupyter-widgets/controls",
          "model_name": "HTMLModel",
          "model_module_version": "1.5.0",
          "state": {
            "_dom_classes": [],
            "_model_module": "@jupyter-widgets/controls",
            "_model_module_version": "1.5.0",
            "_model_name": "HTMLModel",
            "_view_count": null,
            "_view_module": "@jupyter-widgets/controls",
            "_view_module_version": "1.5.0",
            "_view_name": "HTMLView",
            "description": "",
            "description_tooltip": null,
            "layout": "IPY_MODEL_76e66bb9afaf432ca41cbebce9bc4370",
            "placeholder": "​",
            "style": "IPY_MODEL_5129e36021144b1696f56bbf97ff7d58",
            "value": " 469/469 [00:19&lt;00:00, 25.83it/s, Perda Treino=0.0593]"
          }
        },
        "66596d48209240abaa6832fce31f7086": {
          "model_module": "@jupyter-widgets/base",
          "model_name": "LayoutModel",
          "model_module_version": "1.2.0",
          "state": {
            "_model_module": "@jupyter-widgets/base",
            "_model_module_version": "1.2.0",
            "_model_name": "LayoutModel",
            "_view_count": null,
            "_view_module": "@jupyter-widgets/base",
            "_view_module_version": "1.2.0",
            "_view_name": "LayoutView",
            "align_content": null,
            "align_items": null,
            "align_self": null,
            "border": null,
            "bottom": null,
            "display": null,
            "flex": null,
            "flex_flow": null,
            "grid_area": null,
            "grid_auto_columns": null,
            "grid_auto_flow": null,
            "grid_auto_rows": null,
            "grid_column": null,
            "grid_gap": null,
            "grid_row": null,
            "grid_template_areas": null,
            "grid_template_columns": null,
            "grid_template_rows": null,
            "height": null,
            "justify_content": null,
            "justify_items": null,
            "left": null,
            "margin": null,
            "max_height": null,
            "max_width": null,
            "min_height": null,
            "min_width": null,
            "object_fit": null,
            "object_position": null,
            "order": null,
            "overflow": null,
            "overflow_x": null,
            "overflow_y": null,
            "padding": null,
            "right": null,
            "top": null,
            "visibility": null,
            "width": null
          }
        },
        "d6603d9f8e8940cfa07396ad05622c58": {
          "model_module": "@jupyter-widgets/base",
          "model_name": "LayoutModel",
          "model_module_version": "1.2.0",
          "state": {
            "_model_module": "@jupyter-widgets/base",
            "_model_module_version": "1.2.0",
            "_model_name": "LayoutModel",
            "_view_count": null,
            "_view_module": "@jupyter-widgets/base",
            "_view_module_version": "1.2.0",
            "_view_name": "LayoutView",
            "align_content": null,
            "align_items": null,
            "align_self": null,
            "border": null,
            "bottom": null,
            "display": null,
            "flex": null,
            "flex_flow": null,
            "grid_area": null,
            "grid_auto_columns": null,
            "grid_auto_flow": null,
            "grid_auto_rows": null,
            "grid_column": null,
            "grid_gap": null,
            "grid_row": null,
            "grid_template_areas": null,
            "grid_template_columns": null,
            "grid_template_rows": null,
            "height": null,
            "justify_content": null,
            "justify_items": null,
            "left": null,
            "margin": null,
            "max_height": null,
            "max_width": null,
            "min_height": null,
            "min_width": null,
            "object_fit": null,
            "object_position": null,
            "order": null,
            "overflow": null,
            "overflow_x": null,
            "overflow_y": null,
            "padding": null,
            "right": null,
            "top": null,
            "visibility": null,
            "width": null
          }
        },
        "6eea3e30c4994f96aae1a289cc3fda12": {
          "model_module": "@jupyter-widgets/controls",
          "model_name": "DescriptionStyleModel",
          "model_module_version": "1.5.0",
          "state": {
            "_model_module": "@jupyter-widgets/controls",
            "_model_module_version": "1.5.0",
            "_model_name": "DescriptionStyleModel",
            "_view_count": null,
            "_view_module": "@jupyter-widgets/base",
            "_view_module_version": "1.2.0",
            "_view_name": "StyleView",
            "description_width": ""
          }
        },
        "51c5b1060c044bda8a6ba466fccb6eff": {
          "model_module": "@jupyter-widgets/base",
          "model_name": "LayoutModel",
          "model_module_version": "1.2.0",
          "state": {
            "_model_module": "@jupyter-widgets/base",
            "_model_module_version": "1.2.0",
            "_model_name": "LayoutModel",
            "_view_count": null,
            "_view_module": "@jupyter-widgets/base",
            "_view_module_version": "1.2.0",
            "_view_name": "LayoutView",
            "align_content": null,
            "align_items": null,
            "align_self": null,
            "border": null,
            "bottom": null,
            "display": null,
            "flex": null,
            "flex_flow": null,
            "grid_area": null,
            "grid_auto_columns": null,
            "grid_auto_flow": null,
            "grid_auto_rows": null,
            "grid_column": null,
            "grid_gap": null,
            "grid_row": null,
            "grid_template_areas": null,
            "grid_template_columns": null,
            "grid_template_rows": null,
            "height": null,
            "justify_content": null,
            "justify_items": null,
            "left": null,
            "margin": null,
            "max_height": null,
            "max_width": null,
            "min_height": null,
            "min_width": null,
            "object_fit": null,
            "object_position": null,
            "order": null,
            "overflow": null,
            "overflow_x": null,
            "overflow_y": null,
            "padding": null,
            "right": null,
            "top": null,
            "visibility": null,
            "width": null
          }
        },
        "2734d40b84684dc1948ffb417582edb9": {
          "model_module": "@jupyter-widgets/controls",
          "model_name": "ProgressStyleModel",
          "model_module_version": "1.5.0",
          "state": {
            "_model_module": "@jupyter-widgets/controls",
            "_model_module_version": "1.5.0",
            "_model_name": "ProgressStyleModel",
            "_view_count": null,
            "_view_module": "@jupyter-widgets/base",
            "_view_module_version": "1.2.0",
            "_view_name": "StyleView",
            "bar_color": null,
            "description_width": ""
          }
        },
        "76e66bb9afaf432ca41cbebce9bc4370": {
          "model_module": "@jupyter-widgets/base",
          "model_name": "LayoutModel",
          "model_module_version": "1.2.0",
          "state": {
            "_model_module": "@jupyter-widgets/base",
            "_model_module_version": "1.2.0",
            "_model_name": "LayoutModel",
            "_view_count": null,
            "_view_module": "@jupyter-widgets/base",
            "_view_module_version": "1.2.0",
            "_view_name": "LayoutView",
            "align_content": null,
            "align_items": null,
            "align_self": null,
            "border": null,
            "bottom": null,
            "display": null,
            "flex": null,
            "flex_flow": null,
            "grid_area": null,
            "grid_auto_columns": null,
            "grid_auto_flow": null,
            "grid_auto_rows": null,
            "grid_column": null,
            "grid_gap": null,
            "grid_row": null,
            "grid_template_areas": null,
            "grid_template_columns": null,
            "grid_template_rows": null,
            "height": null,
            "justify_content": null,
            "justify_items": null,
            "left": null,
            "margin": null,
            "max_height": null,
            "max_width": null,
            "min_height": null,
            "min_width": null,
            "object_fit": null,
            "object_position": null,
            "order": null,
            "overflow": null,
            "overflow_x": null,
            "overflow_y": null,
            "padding": null,
            "right": null,
            "top": null,
            "visibility": null,
            "width": null
          }
        },
        "5129e36021144b1696f56bbf97ff7d58": {
          "model_module": "@jupyter-widgets/controls",
          "model_name": "DescriptionStyleModel",
          "model_module_version": "1.5.0",
          "state": {
            "_model_module": "@jupyter-widgets/controls",
            "_model_module_version": "1.5.0",
            "_model_name": "DescriptionStyleModel",
            "_view_count": null,
            "_view_module": "@jupyter-widgets/base",
            "_view_module_version": "1.2.0",
            "_view_name": "StyleView",
            "description_width": ""
          }
        },
        "9226e7d58cbf40ff8e9bee16602367d0": {
          "model_module": "@jupyter-widgets/controls",
          "model_name": "HBoxModel",
          "model_module_version": "1.5.0",
          "state": {
            "_dom_classes": [],
            "_model_module": "@jupyter-widgets/controls",
            "_model_module_version": "1.5.0",
            "_model_name": "HBoxModel",
            "_view_count": null,
            "_view_module": "@jupyter-widgets/controls",
            "_view_module_version": "1.5.0",
            "_view_name": "HBoxView",
            "box_style": "",
            "children": [
              "IPY_MODEL_5ec187dfbcd24b8ba5f8fc8320404ece",
              "IPY_MODEL_a12d40aa9f904bc6a5088f0ff2963582",
              "IPY_MODEL_d0d137c89b914c78b2e1550acff41580"
            ],
            "layout": "IPY_MODEL_2dea78aaa32f4d4887183e9f7a0a2d68"
          }
        },
        "5ec187dfbcd24b8ba5f8fc8320404ece": {
          "model_module": "@jupyter-widgets/controls",
          "model_name": "HTMLModel",
          "model_module_version": "1.5.0",
          "state": {
            "_dom_classes": [],
            "_model_module": "@jupyter-widgets/controls",
            "_model_module_version": "1.5.0",
            "_model_name": "HTMLModel",
            "_view_count": null,
            "_view_module": "@jupyter-widgets/controls",
            "_view_module_version": "1.5.0",
            "_view_name": "HTMLView",
            "description": "",
            "description_tooltip": null,
            "layout": "IPY_MODEL_79cec95d1bbd4802a1510cf927854f7c",
            "placeholder": "​",
            "style": "IPY_MODEL_2ef3702540834f2697bdbf791cc4ed47",
            "value": "Época [2/5] Validação: 100%"
          }
        },
        "a12d40aa9f904bc6a5088f0ff2963582": {
          "model_module": "@jupyter-widgets/controls",
          "model_name": "FloatProgressModel",
          "model_module_version": "1.5.0",
          "state": {
            "_dom_classes": [],
            "_model_module": "@jupyter-widgets/controls",
            "_model_module_version": "1.5.0",
            "_model_name": "FloatProgressModel",
            "_view_count": null,
            "_view_module": "@jupyter-widgets/controls",
            "_view_module_version": "1.5.0",
            "_view_name": "ProgressView",
            "bar_style": "success",
            "description": "",
            "description_tooltip": null,
            "layout": "IPY_MODEL_fc9bb02bde0a421386e2d4d8c7fb5fe5",
            "max": 79,
            "min": 0,
            "orientation": "horizontal",
            "style": "IPY_MODEL_ac7842481d1e419f85a39b15d3a96777",
            "value": 79
          }
        },
        "d0d137c89b914c78b2e1550acff41580": {
          "model_module": "@jupyter-widgets/controls",
          "model_name": "HTMLModel",
          "model_module_version": "1.5.0",
          "state": {
            "_dom_classes": [],
            "_model_module": "@jupyter-widgets/controls",
            "_model_module_version": "1.5.0",
            "_model_name": "HTMLModel",
            "_view_count": null,
            "_view_module": "@jupyter-widgets/controls",
            "_view_module_version": "1.5.0",
            "_view_name": "HTMLView",
            "description": "",
            "description_tooltip": null,
            "layout": "IPY_MODEL_cf1bca72559346478d93350d7170c6f1",
            "placeholder": "​",
            "style": "IPY_MODEL_63789b4671d64dfeb0dbab14a65e141e",
            "value": " 79/79 [00:02&lt;00:00, 28.31it/s, Perda Val=0.0072]"
          }
        },
        "2dea78aaa32f4d4887183e9f7a0a2d68": {
          "model_module": "@jupyter-widgets/base",
          "model_name": "LayoutModel",
          "model_module_version": "1.2.0",
          "state": {
            "_model_module": "@jupyter-widgets/base",
            "_model_module_version": "1.2.0",
            "_model_name": "LayoutModel",
            "_view_count": null,
            "_view_module": "@jupyter-widgets/base",
            "_view_module_version": "1.2.0",
            "_view_name": "LayoutView",
            "align_content": null,
            "align_items": null,
            "align_self": null,
            "border": null,
            "bottom": null,
            "display": null,
            "flex": null,
            "flex_flow": null,
            "grid_area": null,
            "grid_auto_columns": null,
            "grid_auto_flow": null,
            "grid_auto_rows": null,
            "grid_column": null,
            "grid_gap": null,
            "grid_row": null,
            "grid_template_areas": null,
            "grid_template_columns": null,
            "grid_template_rows": null,
            "height": null,
            "justify_content": null,
            "justify_items": null,
            "left": null,
            "margin": null,
            "max_height": null,
            "max_width": null,
            "min_height": null,
            "min_width": null,
            "object_fit": null,
            "object_position": null,
            "order": null,
            "overflow": null,
            "overflow_x": null,
            "overflow_y": null,
            "padding": null,
            "right": null,
            "top": null,
            "visibility": null,
            "width": null
          }
        },
        "79cec95d1bbd4802a1510cf927854f7c": {
          "model_module": "@jupyter-widgets/base",
          "model_name": "LayoutModel",
          "model_module_version": "1.2.0",
          "state": {
            "_model_module": "@jupyter-widgets/base",
            "_model_module_version": "1.2.0",
            "_model_name": "LayoutModel",
            "_view_count": null,
            "_view_module": "@jupyter-widgets/base",
            "_view_module_version": "1.2.0",
            "_view_name": "LayoutView",
            "align_content": null,
            "align_items": null,
            "align_self": null,
            "border": null,
            "bottom": null,
            "display": null,
            "flex": null,
            "flex_flow": null,
            "grid_area": null,
            "grid_auto_columns": null,
            "grid_auto_flow": null,
            "grid_auto_rows": null,
            "grid_column": null,
            "grid_gap": null,
            "grid_row": null,
            "grid_template_areas": null,
            "grid_template_columns": null,
            "grid_template_rows": null,
            "height": null,
            "justify_content": null,
            "justify_items": null,
            "left": null,
            "margin": null,
            "max_height": null,
            "max_width": null,
            "min_height": null,
            "min_width": null,
            "object_fit": null,
            "object_position": null,
            "order": null,
            "overflow": null,
            "overflow_x": null,
            "overflow_y": null,
            "padding": null,
            "right": null,
            "top": null,
            "visibility": null,
            "width": null
          }
        },
        "2ef3702540834f2697bdbf791cc4ed47": {
          "model_module": "@jupyter-widgets/controls",
          "model_name": "DescriptionStyleModel",
          "model_module_version": "1.5.0",
          "state": {
            "_model_module": "@jupyter-widgets/controls",
            "_model_module_version": "1.5.0",
            "_model_name": "DescriptionStyleModel",
            "_view_count": null,
            "_view_module": "@jupyter-widgets/base",
            "_view_module_version": "1.2.0",
            "_view_name": "StyleView",
            "description_width": ""
          }
        },
        "fc9bb02bde0a421386e2d4d8c7fb5fe5": {
          "model_module": "@jupyter-widgets/base",
          "model_name": "LayoutModel",
          "model_module_version": "1.2.0",
          "state": {
            "_model_module": "@jupyter-widgets/base",
            "_model_module_version": "1.2.0",
            "_model_name": "LayoutModel",
            "_view_count": null,
            "_view_module": "@jupyter-widgets/base",
            "_view_module_version": "1.2.0",
            "_view_name": "LayoutView",
            "align_content": null,
            "align_items": null,
            "align_self": null,
            "border": null,
            "bottom": null,
            "display": null,
            "flex": null,
            "flex_flow": null,
            "grid_area": null,
            "grid_auto_columns": null,
            "grid_auto_flow": null,
            "grid_auto_rows": null,
            "grid_column": null,
            "grid_gap": null,
            "grid_row": null,
            "grid_template_areas": null,
            "grid_template_columns": null,
            "grid_template_rows": null,
            "height": null,
            "justify_content": null,
            "justify_items": null,
            "left": null,
            "margin": null,
            "max_height": null,
            "max_width": null,
            "min_height": null,
            "min_width": null,
            "object_fit": null,
            "object_position": null,
            "order": null,
            "overflow": null,
            "overflow_x": null,
            "overflow_y": null,
            "padding": null,
            "right": null,
            "top": null,
            "visibility": null,
            "width": null
          }
        },
        "ac7842481d1e419f85a39b15d3a96777": {
          "model_module": "@jupyter-widgets/controls",
          "model_name": "ProgressStyleModel",
          "model_module_version": "1.5.0",
          "state": {
            "_model_module": "@jupyter-widgets/controls",
            "_model_module_version": "1.5.0",
            "_model_name": "ProgressStyleModel",
            "_view_count": null,
            "_view_module": "@jupyter-widgets/base",
            "_view_module_version": "1.2.0",
            "_view_name": "StyleView",
            "bar_color": null,
            "description_width": ""
          }
        },
        "cf1bca72559346478d93350d7170c6f1": {
          "model_module": "@jupyter-widgets/base",
          "model_name": "LayoutModel",
          "model_module_version": "1.2.0",
          "state": {
            "_model_module": "@jupyter-widgets/base",
            "_model_module_version": "1.2.0",
            "_model_name": "LayoutModel",
            "_view_count": null,
            "_view_module": "@jupyter-widgets/base",
            "_view_module_version": "1.2.0",
            "_view_name": "LayoutView",
            "align_content": null,
            "align_items": null,
            "align_self": null,
            "border": null,
            "bottom": null,
            "display": null,
            "flex": null,
            "flex_flow": null,
            "grid_area": null,
            "grid_auto_columns": null,
            "grid_auto_flow": null,
            "grid_auto_rows": null,
            "grid_column": null,
            "grid_gap": null,
            "grid_row": null,
            "grid_template_areas": null,
            "grid_template_columns": null,
            "grid_template_rows": null,
            "height": null,
            "justify_content": null,
            "justify_items": null,
            "left": null,
            "margin": null,
            "max_height": null,
            "max_width": null,
            "min_height": null,
            "min_width": null,
            "object_fit": null,
            "object_position": null,
            "order": null,
            "overflow": null,
            "overflow_x": null,
            "overflow_y": null,
            "padding": null,
            "right": null,
            "top": null,
            "visibility": null,
            "width": null
          }
        },
        "63789b4671d64dfeb0dbab14a65e141e": {
          "model_module": "@jupyter-widgets/controls",
          "model_name": "DescriptionStyleModel",
          "model_module_version": "1.5.0",
          "state": {
            "_model_module": "@jupyter-widgets/controls",
            "_model_module_version": "1.5.0",
            "_model_name": "DescriptionStyleModel",
            "_view_count": null,
            "_view_module": "@jupyter-widgets/base",
            "_view_module_version": "1.2.0",
            "_view_name": "StyleView",
            "description_width": ""
          }
        },
        "808674039f534c83b431366cca72f50b": {
          "model_module": "@jupyter-widgets/controls",
          "model_name": "HBoxModel",
          "model_module_version": "1.5.0",
          "state": {
            "_dom_classes": [],
            "_model_module": "@jupyter-widgets/controls",
            "_model_module_version": "1.5.0",
            "_model_name": "HBoxModel",
            "_view_count": null,
            "_view_module": "@jupyter-widgets/controls",
            "_view_module_version": "1.5.0",
            "_view_name": "HBoxView",
            "box_style": "",
            "children": [
              "IPY_MODEL_a8cd597f38e0420ead68b204fb3efefd",
              "IPY_MODEL_c22450ac962e40b1ad433c044e4349d6",
              "IPY_MODEL_8de5e8a13f654f55966daa4a48467487"
            ],
            "layout": "IPY_MODEL_b7aead2d4b8846e3bab1856966d5e964"
          }
        },
        "a8cd597f38e0420ead68b204fb3efefd": {
          "model_module": "@jupyter-widgets/controls",
          "model_name": "HTMLModel",
          "model_module_version": "1.5.0",
          "state": {
            "_dom_classes": [],
            "_model_module": "@jupyter-widgets/controls",
            "_model_module_version": "1.5.0",
            "_model_name": "HTMLModel",
            "_view_count": null,
            "_view_module": "@jupyter-widgets/controls",
            "_view_module_version": "1.5.0",
            "_view_name": "HTMLView",
            "description": "",
            "description_tooltip": null,
            "layout": "IPY_MODEL_ccd016a959a64cda8adfa5e542cb0bb3",
            "placeholder": "​",
            "style": "IPY_MODEL_e2f752e0d7514c27b5877c360b5b5c95",
            "value": "Época [3/5] Treino: 100%"
          }
        },
        "c22450ac962e40b1ad433c044e4349d6": {
          "model_module": "@jupyter-widgets/controls",
          "model_name": "FloatProgressModel",
          "model_module_version": "1.5.0",
          "state": {
            "_dom_classes": [],
            "_model_module": "@jupyter-widgets/controls",
            "_model_module_version": "1.5.0",
            "_model_name": "FloatProgressModel",
            "_view_count": null,
            "_view_module": "@jupyter-widgets/controls",
            "_view_module_version": "1.5.0",
            "_view_name": "ProgressView",
            "bar_style": "success",
            "description": "",
            "description_tooltip": null,
            "layout": "IPY_MODEL_4881abb80cae42a08348bbb12dd98cf4",
            "max": 469,
            "min": 0,
            "orientation": "horizontal",
            "style": "IPY_MODEL_9e7f38e05477457fb807fb314b268894",
            "value": 469
          }
        },
        "8de5e8a13f654f55966daa4a48467487": {
          "model_module": "@jupyter-widgets/controls",
          "model_name": "HTMLModel",
          "model_module_version": "1.5.0",
          "state": {
            "_dom_classes": [],
            "_model_module": "@jupyter-widgets/controls",
            "_model_module_version": "1.5.0",
            "_model_name": "HTMLModel",
            "_view_count": null,
            "_view_module": "@jupyter-widgets/controls",
            "_view_module_version": "1.5.0",
            "_view_name": "HTMLView",
            "description": "",
            "description_tooltip": null,
            "layout": "IPY_MODEL_b6fa5703e8894a9d83d42800e509973c",
            "placeholder": "​",
            "style": "IPY_MODEL_d5afb56504d946a2a16c8d3e3fbbf103",
            "value": " 469/469 [00:20&lt;00:00, 19.65it/s, Perda Treino=0.0830]"
          }
        },
        "b7aead2d4b8846e3bab1856966d5e964": {
          "model_module": "@jupyter-widgets/base",
          "model_name": "LayoutModel",
          "model_module_version": "1.2.0",
          "state": {
            "_model_module": "@jupyter-widgets/base",
            "_model_module_version": "1.2.0",
            "_model_name": "LayoutModel",
            "_view_count": null,
            "_view_module": "@jupyter-widgets/base",
            "_view_module_version": "1.2.0",
            "_view_name": "LayoutView",
            "align_content": null,
            "align_items": null,
            "align_self": null,
            "border": null,
            "bottom": null,
            "display": null,
            "flex": null,
            "flex_flow": null,
            "grid_area": null,
            "grid_auto_columns": null,
            "grid_auto_flow": null,
            "grid_auto_rows": null,
            "grid_column": null,
            "grid_gap": null,
            "grid_row": null,
            "grid_template_areas": null,
            "grid_template_columns": null,
            "grid_template_rows": null,
            "height": null,
            "justify_content": null,
            "justify_items": null,
            "left": null,
            "margin": null,
            "max_height": null,
            "max_width": null,
            "min_height": null,
            "min_width": null,
            "object_fit": null,
            "object_position": null,
            "order": null,
            "overflow": null,
            "overflow_x": null,
            "overflow_y": null,
            "padding": null,
            "right": null,
            "top": null,
            "visibility": null,
            "width": null
          }
        },
        "ccd016a959a64cda8adfa5e542cb0bb3": {
          "model_module": "@jupyter-widgets/base",
          "model_name": "LayoutModel",
          "model_module_version": "1.2.0",
          "state": {
            "_model_module": "@jupyter-widgets/base",
            "_model_module_version": "1.2.0",
            "_model_name": "LayoutModel",
            "_view_count": null,
            "_view_module": "@jupyter-widgets/base",
            "_view_module_version": "1.2.0",
            "_view_name": "LayoutView",
            "align_content": null,
            "align_items": null,
            "align_self": null,
            "border": null,
            "bottom": null,
            "display": null,
            "flex": null,
            "flex_flow": null,
            "grid_area": null,
            "grid_auto_columns": null,
            "grid_auto_flow": null,
            "grid_auto_rows": null,
            "grid_column": null,
            "grid_gap": null,
            "grid_row": null,
            "grid_template_areas": null,
            "grid_template_columns": null,
            "grid_template_rows": null,
            "height": null,
            "justify_content": null,
            "justify_items": null,
            "left": null,
            "margin": null,
            "max_height": null,
            "max_width": null,
            "min_height": null,
            "min_width": null,
            "object_fit": null,
            "object_position": null,
            "order": null,
            "overflow": null,
            "overflow_x": null,
            "overflow_y": null,
            "padding": null,
            "right": null,
            "top": null,
            "visibility": null,
            "width": null
          }
        },
        "e2f752e0d7514c27b5877c360b5b5c95": {
          "model_module": "@jupyter-widgets/controls",
          "model_name": "DescriptionStyleModel",
          "model_module_version": "1.5.0",
          "state": {
            "_model_module": "@jupyter-widgets/controls",
            "_model_module_version": "1.5.0",
            "_model_name": "DescriptionStyleModel",
            "_view_count": null,
            "_view_module": "@jupyter-widgets/base",
            "_view_module_version": "1.2.0",
            "_view_name": "StyleView",
            "description_width": ""
          }
        },
        "4881abb80cae42a08348bbb12dd98cf4": {
          "model_module": "@jupyter-widgets/base",
          "model_name": "LayoutModel",
          "model_module_version": "1.2.0",
          "state": {
            "_model_module": "@jupyter-widgets/base",
            "_model_module_version": "1.2.0",
            "_model_name": "LayoutModel",
            "_view_count": null,
            "_view_module": "@jupyter-widgets/base",
            "_view_module_version": "1.2.0",
            "_view_name": "LayoutView",
            "align_content": null,
            "align_items": null,
            "align_self": null,
            "border": null,
            "bottom": null,
            "display": null,
            "flex": null,
            "flex_flow": null,
            "grid_area": null,
            "grid_auto_columns": null,
            "grid_auto_flow": null,
            "grid_auto_rows": null,
            "grid_column": null,
            "grid_gap": null,
            "grid_row": null,
            "grid_template_areas": null,
            "grid_template_columns": null,
            "grid_template_rows": null,
            "height": null,
            "justify_content": null,
            "justify_items": null,
            "left": null,
            "margin": null,
            "max_height": null,
            "max_width": null,
            "min_height": null,
            "min_width": null,
            "object_fit": null,
            "object_position": null,
            "order": null,
            "overflow": null,
            "overflow_x": null,
            "overflow_y": null,
            "padding": null,
            "right": null,
            "top": null,
            "visibility": null,
            "width": null
          }
        },
        "9e7f38e05477457fb807fb314b268894": {
          "model_module": "@jupyter-widgets/controls",
          "model_name": "ProgressStyleModel",
          "model_module_version": "1.5.0",
          "state": {
            "_model_module": "@jupyter-widgets/controls",
            "_model_module_version": "1.5.0",
            "_model_name": "ProgressStyleModel",
            "_view_count": null,
            "_view_module": "@jupyter-widgets/base",
            "_view_module_version": "1.2.0",
            "_view_name": "StyleView",
            "bar_color": null,
            "description_width": ""
          }
        },
        "b6fa5703e8894a9d83d42800e509973c": {
          "model_module": "@jupyter-widgets/base",
          "model_name": "LayoutModel",
          "model_module_version": "1.2.0",
          "state": {
            "_model_module": "@jupyter-widgets/base",
            "_model_module_version": "1.2.0",
            "_model_name": "LayoutModel",
            "_view_count": null,
            "_view_module": "@jupyter-widgets/base",
            "_view_module_version": "1.2.0",
            "_view_name": "LayoutView",
            "align_content": null,
            "align_items": null,
            "align_self": null,
            "border": null,
            "bottom": null,
            "display": null,
            "flex": null,
            "flex_flow": null,
            "grid_area": null,
            "grid_auto_columns": null,
            "grid_auto_flow": null,
            "grid_auto_rows": null,
            "grid_column": null,
            "grid_gap": null,
            "grid_row": null,
            "grid_template_areas": null,
            "grid_template_columns": null,
            "grid_template_rows": null,
            "height": null,
            "justify_content": null,
            "justify_items": null,
            "left": null,
            "margin": null,
            "max_height": null,
            "max_width": null,
            "min_height": null,
            "min_width": null,
            "object_fit": null,
            "object_position": null,
            "order": null,
            "overflow": null,
            "overflow_x": null,
            "overflow_y": null,
            "padding": null,
            "right": null,
            "top": null,
            "visibility": null,
            "width": null
          }
        },
        "d5afb56504d946a2a16c8d3e3fbbf103": {
          "model_module": "@jupyter-widgets/controls",
          "model_name": "DescriptionStyleModel",
          "model_module_version": "1.5.0",
          "state": {
            "_model_module": "@jupyter-widgets/controls",
            "_model_module_version": "1.5.0",
            "_model_name": "DescriptionStyleModel",
            "_view_count": null,
            "_view_module": "@jupyter-widgets/base",
            "_view_module_version": "1.2.0",
            "_view_name": "StyleView",
            "description_width": ""
          }
        },
        "613678063acf4127ab2e3f88068da4c0": {
          "model_module": "@jupyter-widgets/controls",
          "model_name": "HBoxModel",
          "model_module_version": "1.5.0",
          "state": {
            "_dom_classes": [],
            "_model_module": "@jupyter-widgets/controls",
            "_model_module_version": "1.5.0",
            "_model_name": "HBoxModel",
            "_view_count": null,
            "_view_module": "@jupyter-widgets/controls",
            "_view_module_version": "1.5.0",
            "_view_name": "HBoxView",
            "box_style": "",
            "children": [
              "IPY_MODEL_8be9109424e6463688e2dab144b8d542",
              "IPY_MODEL_5271ace0c227473bbc248a3e8dcbf91c",
              "IPY_MODEL_43c9f61c74ed4b93a5f3ee0700c983d6"
            ],
            "layout": "IPY_MODEL_ca0320e7af0040c58e12efb49e1f78f6"
          }
        },
        "8be9109424e6463688e2dab144b8d542": {
          "model_module": "@jupyter-widgets/controls",
          "model_name": "HTMLModel",
          "model_module_version": "1.5.0",
          "state": {
            "_dom_classes": [],
            "_model_module": "@jupyter-widgets/controls",
            "_model_module_version": "1.5.0",
            "_model_name": "HTMLModel",
            "_view_count": null,
            "_view_module": "@jupyter-widgets/controls",
            "_view_module_version": "1.5.0",
            "_view_name": "HTMLView",
            "description": "",
            "description_tooltip": null,
            "layout": "IPY_MODEL_01fd26b2178b4744a1ba983a83672695",
            "placeholder": "​",
            "style": "IPY_MODEL_ec17376d55e140a782bee900e3b08408",
            "value": "Época [3/5] Validação: 100%"
          }
        },
        "5271ace0c227473bbc248a3e8dcbf91c": {
          "model_module": "@jupyter-widgets/controls",
          "model_name": "FloatProgressModel",
          "model_module_version": "1.5.0",
          "state": {
            "_dom_classes": [],
            "_model_module": "@jupyter-widgets/controls",
            "_model_module_version": "1.5.0",
            "_model_name": "FloatProgressModel",
            "_view_count": null,
            "_view_module": "@jupyter-widgets/controls",
            "_view_module_version": "1.5.0",
            "_view_name": "ProgressView",
            "bar_style": "success",
            "description": "",
            "description_tooltip": null,
            "layout": "IPY_MODEL_b5c8bb12ad2143518800d51c81d9e938",
            "max": 79,
            "min": 0,
            "orientation": "horizontal",
            "style": "IPY_MODEL_8803040fee814e2d87ca9b678fdc60fd",
            "value": 79
          }
        },
        "43c9f61c74ed4b93a5f3ee0700c983d6": {
          "model_module": "@jupyter-widgets/controls",
          "model_name": "HTMLModel",
          "model_module_version": "1.5.0",
          "state": {
            "_dom_classes": [],
            "_model_module": "@jupyter-widgets/controls",
            "_model_module_version": "1.5.0",
            "_model_name": "HTMLModel",
            "_view_count": null,
            "_view_module": "@jupyter-widgets/controls",
            "_view_module_version": "1.5.0",
            "_view_name": "HTMLView",
            "description": "",
            "description_tooltip": null,
            "layout": "IPY_MODEL_2795be890b744e2898b3b5b62bbdff61",
            "placeholder": "​",
            "style": "IPY_MODEL_672b6ad87db142fbbfae763a48fffe92",
            "value": " 79/79 [00:03&lt;00:00, 17.73it/s, Perda Val=0.0020]"
          }
        },
        "ca0320e7af0040c58e12efb49e1f78f6": {
          "model_module": "@jupyter-widgets/base",
          "model_name": "LayoutModel",
          "model_module_version": "1.2.0",
          "state": {
            "_model_module": "@jupyter-widgets/base",
            "_model_module_version": "1.2.0",
            "_model_name": "LayoutModel",
            "_view_count": null,
            "_view_module": "@jupyter-widgets/base",
            "_view_module_version": "1.2.0",
            "_view_name": "LayoutView",
            "align_content": null,
            "align_items": null,
            "align_self": null,
            "border": null,
            "bottom": null,
            "display": null,
            "flex": null,
            "flex_flow": null,
            "grid_area": null,
            "grid_auto_columns": null,
            "grid_auto_flow": null,
            "grid_auto_rows": null,
            "grid_column": null,
            "grid_gap": null,
            "grid_row": null,
            "grid_template_areas": null,
            "grid_template_columns": null,
            "grid_template_rows": null,
            "height": null,
            "justify_content": null,
            "justify_items": null,
            "left": null,
            "margin": null,
            "max_height": null,
            "max_width": null,
            "min_height": null,
            "min_width": null,
            "object_fit": null,
            "object_position": null,
            "order": null,
            "overflow": null,
            "overflow_x": null,
            "overflow_y": null,
            "padding": null,
            "right": null,
            "top": null,
            "visibility": null,
            "width": null
          }
        },
        "01fd26b2178b4744a1ba983a83672695": {
          "model_module": "@jupyter-widgets/base",
          "model_name": "LayoutModel",
          "model_module_version": "1.2.0",
          "state": {
            "_model_module": "@jupyter-widgets/base",
            "_model_module_version": "1.2.0",
            "_model_name": "LayoutModel",
            "_view_count": null,
            "_view_module": "@jupyter-widgets/base",
            "_view_module_version": "1.2.0",
            "_view_name": "LayoutView",
            "align_content": null,
            "align_items": null,
            "align_self": null,
            "border": null,
            "bottom": null,
            "display": null,
            "flex": null,
            "flex_flow": null,
            "grid_area": null,
            "grid_auto_columns": null,
            "grid_auto_flow": null,
            "grid_auto_rows": null,
            "grid_column": null,
            "grid_gap": null,
            "grid_row": null,
            "grid_template_areas": null,
            "grid_template_columns": null,
            "grid_template_rows": null,
            "height": null,
            "justify_content": null,
            "justify_items": null,
            "left": null,
            "margin": null,
            "max_height": null,
            "max_width": null,
            "min_height": null,
            "min_width": null,
            "object_fit": null,
            "object_position": null,
            "order": null,
            "overflow": null,
            "overflow_x": null,
            "overflow_y": null,
            "padding": null,
            "right": null,
            "top": null,
            "visibility": null,
            "width": null
          }
        },
        "ec17376d55e140a782bee900e3b08408": {
          "model_module": "@jupyter-widgets/controls",
          "model_name": "DescriptionStyleModel",
          "model_module_version": "1.5.0",
          "state": {
            "_model_module": "@jupyter-widgets/controls",
            "_model_module_version": "1.5.0",
            "_model_name": "DescriptionStyleModel",
            "_view_count": null,
            "_view_module": "@jupyter-widgets/base",
            "_view_module_version": "1.2.0",
            "_view_name": "StyleView",
            "description_width": ""
          }
        },
        "b5c8bb12ad2143518800d51c81d9e938": {
          "model_module": "@jupyter-widgets/base",
          "model_name": "LayoutModel",
          "model_module_version": "1.2.0",
          "state": {
            "_model_module": "@jupyter-widgets/base",
            "_model_module_version": "1.2.0",
            "_model_name": "LayoutModel",
            "_view_count": null,
            "_view_module": "@jupyter-widgets/base",
            "_view_module_version": "1.2.0",
            "_view_name": "LayoutView",
            "align_content": null,
            "align_items": null,
            "align_self": null,
            "border": null,
            "bottom": null,
            "display": null,
            "flex": null,
            "flex_flow": null,
            "grid_area": null,
            "grid_auto_columns": null,
            "grid_auto_flow": null,
            "grid_auto_rows": null,
            "grid_column": null,
            "grid_gap": null,
            "grid_row": null,
            "grid_template_areas": null,
            "grid_template_columns": null,
            "grid_template_rows": null,
            "height": null,
            "justify_content": null,
            "justify_items": null,
            "left": null,
            "margin": null,
            "max_height": null,
            "max_width": null,
            "min_height": null,
            "min_width": null,
            "object_fit": null,
            "object_position": null,
            "order": null,
            "overflow": null,
            "overflow_x": null,
            "overflow_y": null,
            "padding": null,
            "right": null,
            "top": null,
            "visibility": null,
            "width": null
          }
        },
        "8803040fee814e2d87ca9b678fdc60fd": {
          "model_module": "@jupyter-widgets/controls",
          "model_name": "ProgressStyleModel",
          "model_module_version": "1.5.0",
          "state": {
            "_model_module": "@jupyter-widgets/controls",
            "_model_module_version": "1.5.0",
            "_model_name": "ProgressStyleModel",
            "_view_count": null,
            "_view_module": "@jupyter-widgets/base",
            "_view_module_version": "1.2.0",
            "_view_name": "StyleView",
            "bar_color": null,
            "description_width": ""
          }
        },
        "2795be890b744e2898b3b5b62bbdff61": {
          "model_module": "@jupyter-widgets/base",
          "model_name": "LayoutModel",
          "model_module_version": "1.2.0",
          "state": {
            "_model_module": "@jupyter-widgets/base",
            "_model_module_version": "1.2.0",
            "_model_name": "LayoutModel",
            "_view_count": null,
            "_view_module": "@jupyter-widgets/base",
            "_view_module_version": "1.2.0",
            "_view_name": "LayoutView",
            "align_content": null,
            "align_items": null,
            "align_self": null,
            "border": null,
            "bottom": null,
            "display": null,
            "flex": null,
            "flex_flow": null,
            "grid_area": null,
            "grid_auto_columns": null,
            "grid_auto_flow": null,
            "grid_auto_rows": null,
            "grid_column": null,
            "grid_gap": null,
            "grid_row": null,
            "grid_template_areas": null,
            "grid_template_columns": null,
            "grid_template_rows": null,
            "height": null,
            "justify_content": null,
            "justify_items": null,
            "left": null,
            "margin": null,
            "max_height": null,
            "max_width": null,
            "min_height": null,
            "min_width": null,
            "object_fit": null,
            "object_position": null,
            "order": null,
            "overflow": null,
            "overflow_x": null,
            "overflow_y": null,
            "padding": null,
            "right": null,
            "top": null,
            "visibility": null,
            "width": null
          }
        },
        "672b6ad87db142fbbfae763a48fffe92": {
          "model_module": "@jupyter-widgets/controls",
          "model_name": "DescriptionStyleModel",
          "model_module_version": "1.5.0",
          "state": {
            "_model_module": "@jupyter-widgets/controls",
            "_model_module_version": "1.5.0",
            "_model_name": "DescriptionStyleModel",
            "_view_count": null,
            "_view_module": "@jupyter-widgets/base",
            "_view_module_version": "1.2.0",
            "_view_name": "StyleView",
            "description_width": ""
          }
        },
        "bab00ee66af04d599ccc61741ade0880": {
          "model_module": "@jupyter-widgets/controls",
          "model_name": "HBoxModel",
          "model_module_version": "1.5.0",
          "state": {
            "_dom_classes": [],
            "_model_module": "@jupyter-widgets/controls",
            "_model_module_version": "1.5.0",
            "_model_name": "HBoxModel",
            "_view_count": null,
            "_view_module": "@jupyter-widgets/controls",
            "_view_module_version": "1.5.0",
            "_view_name": "HBoxView",
            "box_style": "",
            "children": [
              "IPY_MODEL_9c780da41ef04a709f36330a196db360",
              "IPY_MODEL_5a052dd8d80d41088fa722764ad4a953",
              "IPY_MODEL_eaa55d629ebb4058b3c72aed9184cffc"
            ],
            "layout": "IPY_MODEL_531d0d268fee4629a1d04c567c887835"
          }
        },
        "9c780da41ef04a709f36330a196db360": {
          "model_module": "@jupyter-widgets/controls",
          "model_name": "HTMLModel",
          "model_module_version": "1.5.0",
          "state": {
            "_dom_classes": [],
            "_model_module": "@jupyter-widgets/controls",
            "_model_module_version": "1.5.0",
            "_model_name": "HTMLModel",
            "_view_count": null,
            "_view_module": "@jupyter-widgets/controls",
            "_view_module_version": "1.5.0",
            "_view_name": "HTMLView",
            "description": "",
            "description_tooltip": null,
            "layout": "IPY_MODEL_befc27339c464c1cbf12909b4dbeecbc",
            "placeholder": "​",
            "style": "IPY_MODEL_eaee2d2d5389444287c74e757774f281",
            "value": "Época [4/5] Treino: 100%"
          }
        },
        "5a052dd8d80d41088fa722764ad4a953": {
          "model_module": "@jupyter-widgets/controls",
          "model_name": "FloatProgressModel",
          "model_module_version": "1.5.0",
          "state": {
            "_dom_classes": [],
            "_model_module": "@jupyter-widgets/controls",
            "_model_module_version": "1.5.0",
            "_model_name": "FloatProgressModel",
            "_view_count": null,
            "_view_module": "@jupyter-widgets/controls",
            "_view_module_version": "1.5.0",
            "_view_name": "ProgressView",
            "bar_style": "success",
            "description": "",
            "description_tooltip": null,
            "layout": "IPY_MODEL_e4cabb72edac48b3909b89f75489e366",
            "max": 469,
            "min": 0,
            "orientation": "horizontal",
            "style": "IPY_MODEL_96afa1079b4f4b39ba7f3cca9bfb98b8",
            "value": 469
          }
        },
        "eaa55d629ebb4058b3c72aed9184cffc": {
          "model_module": "@jupyter-widgets/controls",
          "model_name": "HTMLModel",
          "model_module_version": "1.5.0",
          "state": {
            "_dom_classes": [],
            "_model_module": "@jupyter-widgets/controls",
            "_model_module_version": "1.5.0",
            "_model_name": "HTMLModel",
            "_view_count": null,
            "_view_module": "@jupyter-widgets/controls",
            "_view_module_version": "1.5.0",
            "_view_name": "HTMLView",
            "description": "",
            "description_tooltip": null,
            "layout": "IPY_MODEL_8d4635b5462045d38e2434f2b49b5f3a",
            "placeholder": "​",
            "style": "IPY_MODEL_c4f40718857543e79995e3b3fb4420d6",
            "value": " 469/469 [00:19&lt;00:00, 26.48it/s, Perda Treino=0.0160]"
          }
        },
        "531d0d268fee4629a1d04c567c887835": {
          "model_module": "@jupyter-widgets/base",
          "model_name": "LayoutModel",
          "model_module_version": "1.2.0",
          "state": {
            "_model_module": "@jupyter-widgets/base",
            "_model_module_version": "1.2.0",
            "_model_name": "LayoutModel",
            "_view_count": null,
            "_view_module": "@jupyter-widgets/base",
            "_view_module_version": "1.2.0",
            "_view_name": "LayoutView",
            "align_content": null,
            "align_items": null,
            "align_self": null,
            "border": null,
            "bottom": null,
            "display": null,
            "flex": null,
            "flex_flow": null,
            "grid_area": null,
            "grid_auto_columns": null,
            "grid_auto_flow": null,
            "grid_auto_rows": null,
            "grid_column": null,
            "grid_gap": null,
            "grid_row": null,
            "grid_template_areas": null,
            "grid_template_columns": null,
            "grid_template_rows": null,
            "height": null,
            "justify_content": null,
            "justify_items": null,
            "left": null,
            "margin": null,
            "max_height": null,
            "max_width": null,
            "min_height": null,
            "min_width": null,
            "object_fit": null,
            "object_position": null,
            "order": null,
            "overflow": null,
            "overflow_x": null,
            "overflow_y": null,
            "padding": null,
            "right": null,
            "top": null,
            "visibility": null,
            "width": null
          }
        },
        "befc27339c464c1cbf12909b4dbeecbc": {
          "model_module": "@jupyter-widgets/base",
          "model_name": "LayoutModel",
          "model_module_version": "1.2.0",
          "state": {
            "_model_module": "@jupyter-widgets/base",
            "_model_module_version": "1.2.0",
            "_model_name": "LayoutModel",
            "_view_count": null,
            "_view_module": "@jupyter-widgets/base",
            "_view_module_version": "1.2.0",
            "_view_name": "LayoutView",
            "align_content": null,
            "align_items": null,
            "align_self": null,
            "border": null,
            "bottom": null,
            "display": null,
            "flex": null,
            "flex_flow": null,
            "grid_area": null,
            "grid_auto_columns": null,
            "grid_auto_flow": null,
            "grid_auto_rows": null,
            "grid_column": null,
            "grid_gap": null,
            "grid_row": null,
            "grid_template_areas": null,
            "grid_template_columns": null,
            "grid_template_rows": null,
            "height": null,
            "justify_content": null,
            "justify_items": null,
            "left": null,
            "margin": null,
            "max_height": null,
            "max_width": null,
            "min_height": null,
            "min_width": null,
            "object_fit": null,
            "object_position": null,
            "order": null,
            "overflow": null,
            "overflow_x": null,
            "overflow_y": null,
            "padding": null,
            "right": null,
            "top": null,
            "visibility": null,
            "width": null
          }
        },
        "eaee2d2d5389444287c74e757774f281": {
          "model_module": "@jupyter-widgets/controls",
          "model_name": "DescriptionStyleModel",
          "model_module_version": "1.5.0",
          "state": {
            "_model_module": "@jupyter-widgets/controls",
            "_model_module_version": "1.5.0",
            "_model_name": "DescriptionStyleModel",
            "_view_count": null,
            "_view_module": "@jupyter-widgets/base",
            "_view_module_version": "1.2.0",
            "_view_name": "StyleView",
            "description_width": ""
          }
        },
        "e4cabb72edac48b3909b89f75489e366": {
          "model_module": "@jupyter-widgets/base",
          "model_name": "LayoutModel",
          "model_module_version": "1.2.0",
          "state": {
            "_model_module": "@jupyter-widgets/base",
            "_model_module_version": "1.2.0",
            "_model_name": "LayoutModel",
            "_view_count": null,
            "_view_module": "@jupyter-widgets/base",
            "_view_module_version": "1.2.0",
            "_view_name": "LayoutView",
            "align_content": null,
            "align_items": null,
            "align_self": null,
            "border": null,
            "bottom": null,
            "display": null,
            "flex": null,
            "flex_flow": null,
            "grid_area": null,
            "grid_auto_columns": null,
            "grid_auto_flow": null,
            "grid_auto_rows": null,
            "grid_column": null,
            "grid_gap": null,
            "grid_row": null,
            "grid_template_areas": null,
            "grid_template_columns": null,
            "grid_template_rows": null,
            "height": null,
            "justify_content": null,
            "justify_items": null,
            "left": null,
            "margin": null,
            "max_height": null,
            "max_width": null,
            "min_height": null,
            "min_width": null,
            "object_fit": null,
            "object_position": null,
            "order": null,
            "overflow": null,
            "overflow_x": null,
            "overflow_y": null,
            "padding": null,
            "right": null,
            "top": null,
            "visibility": null,
            "width": null
          }
        },
        "96afa1079b4f4b39ba7f3cca9bfb98b8": {
          "model_module": "@jupyter-widgets/controls",
          "model_name": "ProgressStyleModel",
          "model_module_version": "1.5.0",
          "state": {
            "_model_module": "@jupyter-widgets/controls",
            "_model_module_version": "1.5.0",
            "_model_name": "ProgressStyleModel",
            "_view_count": null,
            "_view_module": "@jupyter-widgets/base",
            "_view_module_version": "1.2.0",
            "_view_name": "StyleView",
            "bar_color": null,
            "description_width": ""
          }
        },
        "8d4635b5462045d38e2434f2b49b5f3a": {
          "model_module": "@jupyter-widgets/base",
          "model_name": "LayoutModel",
          "model_module_version": "1.2.0",
          "state": {
            "_model_module": "@jupyter-widgets/base",
            "_model_module_version": "1.2.0",
            "_model_name": "LayoutModel",
            "_view_count": null,
            "_view_module": "@jupyter-widgets/base",
            "_view_module_version": "1.2.0",
            "_view_name": "LayoutView",
            "align_content": null,
            "align_items": null,
            "align_self": null,
            "border": null,
            "bottom": null,
            "display": null,
            "flex": null,
            "flex_flow": null,
            "grid_area": null,
            "grid_auto_columns": null,
            "grid_auto_flow": null,
            "grid_auto_rows": null,
            "grid_column": null,
            "grid_gap": null,
            "grid_row": null,
            "grid_template_areas": null,
            "grid_template_columns": null,
            "grid_template_rows": null,
            "height": null,
            "justify_content": null,
            "justify_items": null,
            "left": null,
            "margin": null,
            "max_height": null,
            "max_width": null,
            "min_height": null,
            "min_width": null,
            "object_fit": null,
            "object_position": null,
            "order": null,
            "overflow": null,
            "overflow_x": null,
            "overflow_y": null,
            "padding": null,
            "right": null,
            "top": null,
            "visibility": null,
            "width": null
          }
        },
        "c4f40718857543e79995e3b3fb4420d6": {
          "model_module": "@jupyter-widgets/controls",
          "model_name": "DescriptionStyleModel",
          "model_module_version": "1.5.0",
          "state": {
            "_model_module": "@jupyter-widgets/controls",
            "_model_module_version": "1.5.0",
            "_model_name": "DescriptionStyleModel",
            "_view_count": null,
            "_view_module": "@jupyter-widgets/base",
            "_view_module_version": "1.2.0",
            "_view_name": "StyleView",
            "description_width": ""
          }
        },
        "6ff13b8eb09d49a6997d1f7d33667d2f": {
          "model_module": "@jupyter-widgets/controls",
          "model_name": "HBoxModel",
          "model_module_version": "1.5.0",
          "state": {
            "_dom_classes": [],
            "_model_module": "@jupyter-widgets/controls",
            "_model_module_version": "1.5.0",
            "_model_name": "HBoxModel",
            "_view_count": null,
            "_view_module": "@jupyter-widgets/controls",
            "_view_module_version": "1.5.0",
            "_view_name": "HBoxView",
            "box_style": "",
            "children": [
              "IPY_MODEL_50c9d12801a146bc9798b2fcbbc0579c",
              "IPY_MODEL_34b661f7d0f649d1b9d4c2a8db3dc70f",
              "IPY_MODEL_cae01108d5ca48ab8fcb60638832c26f"
            ],
            "layout": "IPY_MODEL_723eb69659b54262a22c9010b5f26cca"
          }
        },
        "50c9d12801a146bc9798b2fcbbc0579c": {
          "model_module": "@jupyter-widgets/controls",
          "model_name": "HTMLModel",
          "model_module_version": "1.5.0",
          "state": {
            "_dom_classes": [],
            "_model_module": "@jupyter-widgets/controls",
            "_model_module_version": "1.5.0",
            "_model_name": "HTMLModel",
            "_view_count": null,
            "_view_module": "@jupyter-widgets/controls",
            "_view_module_version": "1.5.0",
            "_view_name": "HTMLView",
            "description": "",
            "description_tooltip": null,
            "layout": "IPY_MODEL_7bb2ba7f31454eaab1435c5d47c3e9ac",
            "placeholder": "​",
            "style": "IPY_MODEL_f3089715f77948dba232e9c1653479ab",
            "value": "Época [4/5] Validação: 100%"
          }
        },
        "34b661f7d0f649d1b9d4c2a8db3dc70f": {
          "model_module": "@jupyter-widgets/controls",
          "model_name": "FloatProgressModel",
          "model_module_version": "1.5.0",
          "state": {
            "_dom_classes": [],
            "_model_module": "@jupyter-widgets/controls",
            "_model_module_version": "1.5.0",
            "_model_name": "FloatProgressModel",
            "_view_count": null,
            "_view_module": "@jupyter-widgets/controls",
            "_view_module_version": "1.5.0",
            "_view_name": "ProgressView",
            "bar_style": "success",
            "description": "",
            "description_tooltip": null,
            "layout": "IPY_MODEL_69d3572cbab64a74b723204a500a14f9",
            "max": 79,
            "min": 0,
            "orientation": "horizontal",
            "style": "IPY_MODEL_4bfcd95b0624477bbe6bbfd0db728af5",
            "value": 79
          }
        },
        "cae01108d5ca48ab8fcb60638832c26f": {
          "model_module": "@jupyter-widgets/controls",
          "model_name": "HTMLModel",
          "model_module_version": "1.5.0",
          "state": {
            "_dom_classes": [],
            "_model_module": "@jupyter-widgets/controls",
            "_model_module_version": "1.5.0",
            "_model_name": "HTMLModel",
            "_view_count": null,
            "_view_module": "@jupyter-widgets/controls",
            "_view_module_version": "1.5.0",
            "_view_name": "HTMLView",
            "description": "",
            "description_tooltip": null,
            "layout": "IPY_MODEL_846015dc450a4a65a852348264c1daa0",
            "placeholder": "​",
            "style": "IPY_MODEL_8a130833f1f84276a84091b321f40176",
            "value": " 79/79 [00:03&lt;00:00, 19.41it/s, Perda Val=0.0003]"
          }
        },
        "723eb69659b54262a22c9010b5f26cca": {
          "model_module": "@jupyter-widgets/base",
          "model_name": "LayoutModel",
          "model_module_version": "1.2.0",
          "state": {
            "_model_module": "@jupyter-widgets/base",
            "_model_module_version": "1.2.0",
            "_model_name": "LayoutModel",
            "_view_count": null,
            "_view_module": "@jupyter-widgets/base",
            "_view_module_version": "1.2.0",
            "_view_name": "LayoutView",
            "align_content": null,
            "align_items": null,
            "align_self": null,
            "border": null,
            "bottom": null,
            "display": null,
            "flex": null,
            "flex_flow": null,
            "grid_area": null,
            "grid_auto_columns": null,
            "grid_auto_flow": null,
            "grid_auto_rows": null,
            "grid_column": null,
            "grid_gap": null,
            "grid_row": null,
            "grid_template_areas": null,
            "grid_template_columns": null,
            "grid_template_rows": null,
            "height": null,
            "justify_content": null,
            "justify_items": null,
            "left": null,
            "margin": null,
            "max_height": null,
            "max_width": null,
            "min_height": null,
            "min_width": null,
            "object_fit": null,
            "object_position": null,
            "order": null,
            "overflow": null,
            "overflow_x": null,
            "overflow_y": null,
            "padding": null,
            "right": null,
            "top": null,
            "visibility": null,
            "width": null
          }
        },
        "7bb2ba7f31454eaab1435c5d47c3e9ac": {
          "model_module": "@jupyter-widgets/base",
          "model_name": "LayoutModel",
          "model_module_version": "1.2.0",
          "state": {
            "_model_module": "@jupyter-widgets/base",
            "_model_module_version": "1.2.0",
            "_model_name": "LayoutModel",
            "_view_count": null,
            "_view_module": "@jupyter-widgets/base",
            "_view_module_version": "1.2.0",
            "_view_name": "LayoutView",
            "align_content": null,
            "align_items": null,
            "align_self": null,
            "border": null,
            "bottom": null,
            "display": null,
            "flex": null,
            "flex_flow": null,
            "grid_area": null,
            "grid_auto_columns": null,
            "grid_auto_flow": null,
            "grid_auto_rows": null,
            "grid_column": null,
            "grid_gap": null,
            "grid_row": null,
            "grid_template_areas": null,
            "grid_template_columns": null,
            "grid_template_rows": null,
            "height": null,
            "justify_content": null,
            "justify_items": null,
            "left": null,
            "margin": null,
            "max_height": null,
            "max_width": null,
            "min_height": null,
            "min_width": null,
            "object_fit": null,
            "object_position": null,
            "order": null,
            "overflow": null,
            "overflow_x": null,
            "overflow_y": null,
            "padding": null,
            "right": null,
            "top": null,
            "visibility": null,
            "width": null
          }
        },
        "f3089715f77948dba232e9c1653479ab": {
          "model_module": "@jupyter-widgets/controls",
          "model_name": "DescriptionStyleModel",
          "model_module_version": "1.5.0",
          "state": {
            "_model_module": "@jupyter-widgets/controls",
            "_model_module_version": "1.5.0",
            "_model_name": "DescriptionStyleModel",
            "_view_count": null,
            "_view_module": "@jupyter-widgets/base",
            "_view_module_version": "1.2.0",
            "_view_name": "StyleView",
            "description_width": ""
          }
        },
        "69d3572cbab64a74b723204a500a14f9": {
          "model_module": "@jupyter-widgets/base",
          "model_name": "LayoutModel",
          "model_module_version": "1.2.0",
          "state": {
            "_model_module": "@jupyter-widgets/base",
            "_model_module_version": "1.2.0",
            "_model_name": "LayoutModel",
            "_view_count": null,
            "_view_module": "@jupyter-widgets/base",
            "_view_module_version": "1.2.0",
            "_view_name": "LayoutView",
            "align_content": null,
            "align_items": null,
            "align_self": null,
            "border": null,
            "bottom": null,
            "display": null,
            "flex": null,
            "flex_flow": null,
            "grid_area": null,
            "grid_auto_columns": null,
            "grid_auto_flow": null,
            "grid_auto_rows": null,
            "grid_column": null,
            "grid_gap": null,
            "grid_row": null,
            "grid_template_areas": null,
            "grid_template_columns": null,
            "grid_template_rows": null,
            "height": null,
            "justify_content": null,
            "justify_items": null,
            "left": null,
            "margin": null,
            "max_height": null,
            "max_width": null,
            "min_height": null,
            "min_width": null,
            "object_fit": null,
            "object_position": null,
            "order": null,
            "overflow": null,
            "overflow_x": null,
            "overflow_y": null,
            "padding": null,
            "right": null,
            "top": null,
            "visibility": null,
            "width": null
          }
        },
        "4bfcd95b0624477bbe6bbfd0db728af5": {
          "model_module": "@jupyter-widgets/controls",
          "model_name": "ProgressStyleModel",
          "model_module_version": "1.5.0",
          "state": {
            "_model_module": "@jupyter-widgets/controls",
            "_model_module_version": "1.5.0",
            "_model_name": "ProgressStyleModel",
            "_view_count": null,
            "_view_module": "@jupyter-widgets/base",
            "_view_module_version": "1.2.0",
            "_view_name": "StyleView",
            "bar_color": null,
            "description_width": ""
          }
        },
        "846015dc450a4a65a852348264c1daa0": {
          "model_module": "@jupyter-widgets/base",
          "model_name": "LayoutModel",
          "model_module_version": "1.2.0",
          "state": {
            "_model_module": "@jupyter-widgets/base",
            "_model_module_version": "1.2.0",
            "_model_name": "LayoutModel",
            "_view_count": null,
            "_view_module": "@jupyter-widgets/base",
            "_view_module_version": "1.2.0",
            "_view_name": "LayoutView",
            "align_content": null,
            "align_items": null,
            "align_self": null,
            "border": null,
            "bottom": null,
            "display": null,
            "flex": null,
            "flex_flow": null,
            "grid_area": null,
            "grid_auto_columns": null,
            "grid_auto_flow": null,
            "grid_auto_rows": null,
            "grid_column": null,
            "grid_gap": null,
            "grid_row": null,
            "grid_template_areas": null,
            "grid_template_columns": null,
            "grid_template_rows": null,
            "height": null,
            "justify_content": null,
            "justify_items": null,
            "left": null,
            "margin": null,
            "max_height": null,
            "max_width": null,
            "min_height": null,
            "min_width": null,
            "object_fit": null,
            "object_position": null,
            "order": null,
            "overflow": null,
            "overflow_x": null,
            "overflow_y": null,
            "padding": null,
            "right": null,
            "top": null,
            "visibility": null,
            "width": null
          }
        },
        "8a130833f1f84276a84091b321f40176": {
          "model_module": "@jupyter-widgets/controls",
          "model_name": "DescriptionStyleModel",
          "model_module_version": "1.5.0",
          "state": {
            "_model_module": "@jupyter-widgets/controls",
            "_model_module_version": "1.5.0",
            "_model_name": "DescriptionStyleModel",
            "_view_count": null,
            "_view_module": "@jupyter-widgets/base",
            "_view_module_version": "1.2.0",
            "_view_name": "StyleView",
            "description_width": ""
          }
        },
        "6122c9c739b54b22b0b999a958960674": {
          "model_module": "@jupyter-widgets/controls",
          "model_name": "HBoxModel",
          "model_module_version": "1.5.0",
          "state": {
            "_dom_classes": [],
            "_model_module": "@jupyter-widgets/controls",
            "_model_module_version": "1.5.0",
            "_model_name": "HBoxModel",
            "_view_count": null,
            "_view_module": "@jupyter-widgets/controls",
            "_view_module_version": "1.5.0",
            "_view_name": "HBoxView",
            "box_style": "",
            "children": [
              "IPY_MODEL_85ec0d96339d4a45898b40b914f08573",
              "IPY_MODEL_12d81736580a4b9ca8600c87347dd7cf",
              "IPY_MODEL_9e055882dbe4459e8ad612789fe93c2f"
            ],
            "layout": "IPY_MODEL_18670bca0f5d48feaff851727c533ffb"
          }
        },
        "85ec0d96339d4a45898b40b914f08573": {
          "model_module": "@jupyter-widgets/controls",
          "model_name": "HTMLModel",
          "model_module_version": "1.5.0",
          "state": {
            "_dom_classes": [],
            "_model_module": "@jupyter-widgets/controls",
            "_model_module_version": "1.5.0",
            "_model_name": "HTMLModel",
            "_view_count": null,
            "_view_module": "@jupyter-widgets/controls",
            "_view_module_version": "1.5.0",
            "_view_name": "HTMLView",
            "description": "",
            "description_tooltip": null,
            "layout": "IPY_MODEL_324f597138c94400ba37a99087130832",
            "placeholder": "​",
            "style": "IPY_MODEL_33cbb4f85d4c467a8ffe6e1aeb65e7da",
            "value": "Época [5/5] Treino: 100%"
          }
        },
        "12d81736580a4b9ca8600c87347dd7cf": {
          "model_module": "@jupyter-widgets/controls",
          "model_name": "FloatProgressModel",
          "model_module_version": "1.5.0",
          "state": {
            "_dom_classes": [],
            "_model_module": "@jupyter-widgets/controls",
            "_model_module_version": "1.5.0",
            "_model_name": "FloatProgressModel",
            "_view_count": null,
            "_view_module": "@jupyter-widgets/controls",
            "_view_module_version": "1.5.0",
            "_view_name": "ProgressView",
            "bar_style": "success",
            "description": "",
            "description_tooltip": null,
            "layout": "IPY_MODEL_4f93a03ec51a468c8f6255c6a8ab38a6",
            "max": 469,
            "min": 0,
            "orientation": "horizontal",
            "style": "IPY_MODEL_80b5a6f69aaa4ed08d9dd60040fcffe9",
            "value": 469
          }
        },
        "9e055882dbe4459e8ad612789fe93c2f": {
          "model_module": "@jupyter-widgets/controls",
          "model_name": "HTMLModel",
          "model_module_version": "1.5.0",
          "state": {
            "_dom_classes": [],
            "_model_module": "@jupyter-widgets/controls",
            "_model_module_version": "1.5.0",
            "_model_name": "HTMLModel",
            "_view_count": null,
            "_view_module": "@jupyter-widgets/controls",
            "_view_module_version": "1.5.0",
            "_view_name": "HTMLView",
            "description": "",
            "description_tooltip": null,
            "layout": "IPY_MODEL_b814ab06620b437695b056f33c39086c",
            "placeholder": "​",
            "style": "IPY_MODEL_bd102ba00ea04f2da531414e55afb663",
            "value": " 469/469 [00:19&lt;00:00, 25.54it/s, Perda Treino=0.0669]"
          }
        },
        "18670bca0f5d48feaff851727c533ffb": {
          "model_module": "@jupyter-widgets/base",
          "model_name": "LayoutModel",
          "model_module_version": "1.2.0",
          "state": {
            "_model_module": "@jupyter-widgets/base",
            "_model_module_version": "1.2.0",
            "_model_name": "LayoutModel",
            "_view_count": null,
            "_view_module": "@jupyter-widgets/base",
            "_view_module_version": "1.2.0",
            "_view_name": "LayoutView",
            "align_content": null,
            "align_items": null,
            "align_self": null,
            "border": null,
            "bottom": null,
            "display": null,
            "flex": null,
            "flex_flow": null,
            "grid_area": null,
            "grid_auto_columns": null,
            "grid_auto_flow": null,
            "grid_auto_rows": null,
            "grid_column": null,
            "grid_gap": null,
            "grid_row": null,
            "grid_template_areas": null,
            "grid_template_columns": null,
            "grid_template_rows": null,
            "height": null,
            "justify_content": null,
            "justify_items": null,
            "left": null,
            "margin": null,
            "max_height": null,
            "max_width": null,
            "min_height": null,
            "min_width": null,
            "object_fit": null,
            "object_position": null,
            "order": null,
            "overflow": null,
            "overflow_x": null,
            "overflow_y": null,
            "padding": null,
            "right": null,
            "top": null,
            "visibility": null,
            "width": null
          }
        },
        "324f597138c94400ba37a99087130832": {
          "model_module": "@jupyter-widgets/base",
          "model_name": "LayoutModel",
          "model_module_version": "1.2.0",
          "state": {
            "_model_module": "@jupyter-widgets/base",
            "_model_module_version": "1.2.0",
            "_model_name": "LayoutModel",
            "_view_count": null,
            "_view_module": "@jupyter-widgets/base",
            "_view_module_version": "1.2.0",
            "_view_name": "LayoutView",
            "align_content": null,
            "align_items": null,
            "align_self": null,
            "border": null,
            "bottom": null,
            "display": null,
            "flex": null,
            "flex_flow": null,
            "grid_area": null,
            "grid_auto_columns": null,
            "grid_auto_flow": null,
            "grid_auto_rows": null,
            "grid_column": null,
            "grid_gap": null,
            "grid_row": null,
            "grid_template_areas": null,
            "grid_template_columns": null,
            "grid_template_rows": null,
            "height": null,
            "justify_content": null,
            "justify_items": null,
            "left": null,
            "margin": null,
            "max_height": null,
            "max_width": null,
            "min_height": null,
            "min_width": null,
            "object_fit": null,
            "object_position": null,
            "order": null,
            "overflow": null,
            "overflow_x": null,
            "overflow_y": null,
            "padding": null,
            "right": null,
            "top": null,
            "visibility": null,
            "width": null
          }
        },
        "33cbb4f85d4c467a8ffe6e1aeb65e7da": {
          "model_module": "@jupyter-widgets/controls",
          "model_name": "DescriptionStyleModel",
          "model_module_version": "1.5.0",
          "state": {
            "_model_module": "@jupyter-widgets/controls",
            "_model_module_version": "1.5.0",
            "_model_name": "DescriptionStyleModel",
            "_view_count": null,
            "_view_module": "@jupyter-widgets/base",
            "_view_module_version": "1.2.0",
            "_view_name": "StyleView",
            "description_width": ""
          }
        },
        "4f93a03ec51a468c8f6255c6a8ab38a6": {
          "model_module": "@jupyter-widgets/base",
          "model_name": "LayoutModel",
          "model_module_version": "1.2.0",
          "state": {
            "_model_module": "@jupyter-widgets/base",
            "_model_module_version": "1.2.0",
            "_model_name": "LayoutModel",
            "_view_count": null,
            "_view_module": "@jupyter-widgets/base",
            "_view_module_version": "1.2.0",
            "_view_name": "LayoutView",
            "align_content": null,
            "align_items": null,
            "align_self": null,
            "border": null,
            "bottom": null,
            "display": null,
            "flex": null,
            "flex_flow": null,
            "grid_area": null,
            "grid_auto_columns": null,
            "grid_auto_flow": null,
            "grid_auto_rows": null,
            "grid_column": null,
            "grid_gap": null,
            "grid_row": null,
            "grid_template_areas": null,
            "grid_template_columns": null,
            "grid_template_rows": null,
            "height": null,
            "justify_content": null,
            "justify_items": null,
            "left": null,
            "margin": null,
            "max_height": null,
            "max_width": null,
            "min_height": null,
            "min_width": null,
            "object_fit": null,
            "object_position": null,
            "order": null,
            "overflow": null,
            "overflow_x": null,
            "overflow_y": null,
            "padding": null,
            "right": null,
            "top": null,
            "visibility": null,
            "width": null
          }
        },
        "80b5a6f69aaa4ed08d9dd60040fcffe9": {
          "model_module": "@jupyter-widgets/controls",
          "model_name": "ProgressStyleModel",
          "model_module_version": "1.5.0",
          "state": {
            "_model_module": "@jupyter-widgets/controls",
            "_model_module_version": "1.5.0",
            "_model_name": "ProgressStyleModel",
            "_view_count": null,
            "_view_module": "@jupyter-widgets/base",
            "_view_module_version": "1.2.0",
            "_view_name": "StyleView",
            "bar_color": null,
            "description_width": ""
          }
        },
        "b814ab06620b437695b056f33c39086c": {
          "model_module": "@jupyter-widgets/base",
          "model_name": "LayoutModel",
          "model_module_version": "1.2.0",
          "state": {
            "_model_module": "@jupyter-widgets/base",
            "_model_module_version": "1.2.0",
            "_model_name": "LayoutModel",
            "_view_count": null,
            "_view_module": "@jupyter-widgets/base",
            "_view_module_version": "1.2.0",
            "_view_name": "LayoutView",
            "align_content": null,
            "align_items": null,
            "align_self": null,
            "border": null,
            "bottom": null,
            "display": null,
            "flex": null,
            "flex_flow": null,
            "grid_area": null,
            "grid_auto_columns": null,
            "grid_auto_flow": null,
            "grid_auto_rows": null,
            "grid_column": null,
            "grid_gap": null,
            "grid_row": null,
            "grid_template_areas": null,
            "grid_template_columns": null,
            "grid_template_rows": null,
            "height": null,
            "justify_content": null,
            "justify_items": null,
            "left": null,
            "margin": null,
            "max_height": null,
            "max_width": null,
            "min_height": null,
            "min_width": null,
            "object_fit": null,
            "object_position": null,
            "order": null,
            "overflow": null,
            "overflow_x": null,
            "overflow_y": null,
            "padding": null,
            "right": null,
            "top": null,
            "visibility": null,
            "width": null
          }
        },
        "bd102ba00ea04f2da531414e55afb663": {
          "model_module": "@jupyter-widgets/controls",
          "model_name": "DescriptionStyleModel",
          "model_module_version": "1.5.0",
          "state": {
            "_model_module": "@jupyter-widgets/controls",
            "_model_module_version": "1.5.0",
            "_model_name": "DescriptionStyleModel",
            "_view_count": null,
            "_view_module": "@jupyter-widgets/base",
            "_view_module_version": "1.2.0",
            "_view_name": "StyleView",
            "description_width": ""
          }
        },
        "48c065afa9204a7391f5b0e2f1ae6dde": {
          "model_module": "@jupyter-widgets/controls",
          "model_name": "HBoxModel",
          "model_module_version": "1.5.0",
          "state": {
            "_dom_classes": [],
            "_model_module": "@jupyter-widgets/controls",
            "_model_module_version": "1.5.0",
            "_model_name": "HBoxModel",
            "_view_count": null,
            "_view_module": "@jupyter-widgets/controls",
            "_view_module_version": "1.5.0",
            "_view_name": "HBoxView",
            "box_style": "",
            "children": [
              "IPY_MODEL_36908299b2f549b1a5c5ea05a0dfbe01",
              "IPY_MODEL_8cd0d1e5a2914acda7f88d798a9550c2",
              "IPY_MODEL_05ddc265f9874a90a81fe7b442efaaf4"
            ],
            "layout": "IPY_MODEL_ff8b7fc477a24911bb63a62c74712590"
          }
        },
        "36908299b2f549b1a5c5ea05a0dfbe01": {
          "model_module": "@jupyter-widgets/controls",
          "model_name": "HTMLModel",
          "model_module_version": "1.5.0",
          "state": {
            "_dom_classes": [],
            "_model_module": "@jupyter-widgets/controls",
            "_model_module_version": "1.5.0",
            "_model_name": "HTMLModel",
            "_view_count": null,
            "_view_module": "@jupyter-widgets/controls",
            "_view_module_version": "1.5.0",
            "_view_name": "HTMLView",
            "description": "",
            "description_tooltip": null,
            "layout": "IPY_MODEL_e12349daea3848cebaf1c8934129a340",
            "placeholder": "​",
            "style": "IPY_MODEL_5f0cdcd23706418ebb8baf58e219ce93",
            "value": "Época [5/5] Validação: 100%"
          }
        },
        "8cd0d1e5a2914acda7f88d798a9550c2": {
          "model_module": "@jupyter-widgets/controls",
          "model_name": "FloatProgressModel",
          "model_module_version": "1.5.0",
          "state": {
            "_dom_classes": [],
            "_model_module": "@jupyter-widgets/controls",
            "_model_module_version": "1.5.0",
            "_model_name": "FloatProgressModel",
            "_view_count": null,
            "_view_module": "@jupyter-widgets/controls",
            "_view_module_version": "1.5.0",
            "_view_name": "ProgressView",
            "bar_style": "success",
            "description": "",
            "description_tooltip": null,
            "layout": "IPY_MODEL_e5eec4a5e3024ef691a09432a88d1dd0",
            "max": 79,
            "min": 0,
            "orientation": "horizontal",
            "style": "IPY_MODEL_2d62e799b1604eedb8dff62054ad3dd8",
            "value": 79
          }
        },
        "05ddc265f9874a90a81fe7b442efaaf4": {
          "model_module": "@jupyter-widgets/controls",
          "model_name": "HTMLModel",
          "model_module_version": "1.5.0",
          "state": {
            "_dom_classes": [],
            "_model_module": "@jupyter-widgets/controls",
            "_model_module_version": "1.5.0",
            "_model_name": "HTMLModel",
            "_view_count": null,
            "_view_module": "@jupyter-widgets/controls",
            "_view_module_version": "1.5.0",
            "_view_name": "HTMLView",
            "description": "",
            "description_tooltip": null,
            "layout": "IPY_MODEL_cbd6b70df282481c94de5ff0e905461b",
            "placeholder": "​",
            "style": "IPY_MODEL_b80a4ba7f4e243e7ba8bb6bf52c3ee9a",
            "value": " 79/79 [00:02&lt;00:00, 31.76it/s, Perda Val=0.0006]"
          }
        },
        "ff8b7fc477a24911bb63a62c74712590": {
          "model_module": "@jupyter-widgets/base",
          "model_name": "LayoutModel",
          "model_module_version": "1.2.0",
          "state": {
            "_model_module": "@jupyter-widgets/base",
            "_model_module_version": "1.2.0",
            "_model_name": "LayoutModel",
            "_view_count": null,
            "_view_module": "@jupyter-widgets/base",
            "_view_module_version": "1.2.0",
            "_view_name": "LayoutView",
            "align_content": null,
            "align_items": null,
            "align_self": null,
            "border": null,
            "bottom": null,
            "display": null,
            "flex": null,
            "flex_flow": null,
            "grid_area": null,
            "grid_auto_columns": null,
            "grid_auto_flow": null,
            "grid_auto_rows": null,
            "grid_column": null,
            "grid_gap": null,
            "grid_row": null,
            "grid_template_areas": null,
            "grid_template_columns": null,
            "grid_template_rows": null,
            "height": null,
            "justify_content": null,
            "justify_items": null,
            "left": null,
            "margin": null,
            "max_height": null,
            "max_width": null,
            "min_height": null,
            "min_width": null,
            "object_fit": null,
            "object_position": null,
            "order": null,
            "overflow": null,
            "overflow_x": null,
            "overflow_y": null,
            "padding": null,
            "right": null,
            "top": null,
            "visibility": null,
            "width": null
          }
        },
        "e12349daea3848cebaf1c8934129a340": {
          "model_module": "@jupyter-widgets/base",
          "model_name": "LayoutModel",
          "model_module_version": "1.2.0",
          "state": {
            "_model_module": "@jupyter-widgets/base",
            "_model_module_version": "1.2.0",
            "_model_name": "LayoutModel",
            "_view_count": null,
            "_view_module": "@jupyter-widgets/base",
            "_view_module_version": "1.2.0",
            "_view_name": "LayoutView",
            "align_content": null,
            "align_items": null,
            "align_self": null,
            "border": null,
            "bottom": null,
            "display": null,
            "flex": null,
            "flex_flow": null,
            "grid_area": null,
            "grid_auto_columns": null,
            "grid_auto_flow": null,
            "grid_auto_rows": null,
            "grid_column": null,
            "grid_gap": null,
            "grid_row": null,
            "grid_template_areas": null,
            "grid_template_columns": null,
            "grid_template_rows": null,
            "height": null,
            "justify_content": null,
            "justify_items": null,
            "left": null,
            "margin": null,
            "max_height": null,
            "max_width": null,
            "min_height": null,
            "min_width": null,
            "object_fit": null,
            "object_position": null,
            "order": null,
            "overflow": null,
            "overflow_x": null,
            "overflow_y": null,
            "padding": null,
            "right": null,
            "top": null,
            "visibility": null,
            "width": null
          }
        },
        "5f0cdcd23706418ebb8baf58e219ce93": {
          "model_module": "@jupyter-widgets/controls",
          "model_name": "DescriptionStyleModel",
          "model_module_version": "1.5.0",
          "state": {
            "_model_module": "@jupyter-widgets/controls",
            "_model_module_version": "1.5.0",
            "_model_name": "DescriptionStyleModel",
            "_view_count": null,
            "_view_module": "@jupyter-widgets/base",
            "_view_module_version": "1.2.0",
            "_view_name": "StyleView",
            "description_width": ""
          }
        },
        "e5eec4a5e3024ef691a09432a88d1dd0": {
          "model_module": "@jupyter-widgets/base",
          "model_name": "LayoutModel",
          "model_module_version": "1.2.0",
          "state": {
            "_model_module": "@jupyter-widgets/base",
            "_model_module_version": "1.2.0",
            "_model_name": "LayoutModel",
            "_view_count": null,
            "_view_module": "@jupyter-widgets/base",
            "_view_module_version": "1.2.0",
            "_view_name": "LayoutView",
            "align_content": null,
            "align_items": null,
            "align_self": null,
            "border": null,
            "bottom": null,
            "display": null,
            "flex": null,
            "flex_flow": null,
            "grid_area": null,
            "grid_auto_columns": null,
            "grid_auto_flow": null,
            "grid_auto_rows": null,
            "grid_column": null,
            "grid_gap": null,
            "grid_row": null,
            "grid_template_areas": null,
            "grid_template_columns": null,
            "grid_template_rows": null,
            "height": null,
            "justify_content": null,
            "justify_items": null,
            "left": null,
            "margin": null,
            "max_height": null,
            "max_width": null,
            "min_height": null,
            "min_width": null,
            "object_fit": null,
            "object_position": null,
            "order": null,
            "overflow": null,
            "overflow_x": null,
            "overflow_y": null,
            "padding": null,
            "right": null,
            "top": null,
            "visibility": null,
            "width": null
          }
        },
        "2d62e799b1604eedb8dff62054ad3dd8": {
          "model_module": "@jupyter-widgets/controls",
          "model_name": "ProgressStyleModel",
          "model_module_version": "1.5.0",
          "state": {
            "_model_module": "@jupyter-widgets/controls",
            "_model_module_version": "1.5.0",
            "_model_name": "ProgressStyleModel",
            "_view_count": null,
            "_view_module": "@jupyter-widgets/base",
            "_view_module_version": "1.2.0",
            "_view_name": "StyleView",
            "bar_color": null,
            "description_width": ""
          }
        },
        "cbd6b70df282481c94de5ff0e905461b": {
          "model_module": "@jupyter-widgets/base",
          "model_name": "LayoutModel",
          "model_module_version": "1.2.0",
          "state": {
            "_model_module": "@jupyter-widgets/base",
            "_model_module_version": "1.2.0",
            "_model_name": "LayoutModel",
            "_view_count": null,
            "_view_module": "@jupyter-widgets/base",
            "_view_module_version": "1.2.0",
            "_view_name": "LayoutView",
            "align_content": null,
            "align_items": null,
            "align_self": null,
            "border": null,
            "bottom": null,
            "display": null,
            "flex": null,
            "flex_flow": null,
            "grid_area": null,
            "grid_auto_columns": null,
            "grid_auto_flow": null,
            "grid_auto_rows": null,
            "grid_column": null,
            "grid_gap": null,
            "grid_row": null,
            "grid_template_areas": null,
            "grid_template_columns": null,
            "grid_template_rows": null,
            "height": null,
            "justify_content": null,
            "justify_items": null,
            "left": null,
            "margin": null,
            "max_height": null,
            "max_width": null,
            "min_height": null,
            "min_width": null,
            "object_fit": null,
            "object_position": null,
            "order": null,
            "overflow": null,
            "overflow_x": null,
            "overflow_y": null,
            "padding": null,
            "right": null,
            "top": null,
            "visibility": null,
            "width": null
          }
        },
        "b80a4ba7f4e243e7ba8bb6bf52c3ee9a": {
          "model_module": "@jupyter-widgets/controls",
          "model_name": "DescriptionStyleModel",
          "model_module_version": "1.5.0",
          "state": {
            "_model_module": "@jupyter-widgets/controls",
            "_model_module_version": "1.5.0",
            "_model_name": "DescriptionStyleModel",
            "_view_count": null,
            "_view_module": "@jupyter-widgets/base",
            "_view_module_version": "1.2.0",
            "_view_name": "StyleView",
            "description_width": ""
          }
        }
      }
    }
  },
  "nbformat": 4,
  "nbformat_minor": 5
}